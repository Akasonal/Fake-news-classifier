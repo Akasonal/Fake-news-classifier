{
  "nbformat": 4,
  "nbformat_minor": 0,
  "metadata": {
    "colab": {
      "name": "Fake News classifier using Lstm",
      "provenance": [],
      "authorship_tag": "ABX9TyPonZ++zFwWGSoyE3zdV8Et",
      "include_colab_link": true
    },
    "kernelspec": {
      "name": "python3",
      "display_name": "Python 3"
    }
  },
  "cells": [
    {
      "cell_type": "markdown",
      "metadata": {
        "id": "view-in-github",
        "colab_type": "text"
      },
      "source": [
        "<a href=\"https://colab.research.google.com/github/Akasonal/Fake-news-classifier/blob/main/Fake_News_classifier_using_Lstm.ipynb\" target=\"_parent\"><img src=\"https://colab.research.google.com/assets/colab-badge.svg\" alt=\"Open In Colab\"/></a>"
      ]
    },
    {
      "cell_type": "code",
      "metadata": {
        "id": "oaTddak8Y9jD"
      },
      "source": [
        "from tensorflow.keras.preprocessing.text import one_hot\r\n",
        "from tensorflow.keras.preprocessing.sequence import pad_sequences\r\n",
        "from tensorflow.keras.layers import Embedding\r\n",
        "from tensorflow.keras.models import Sequential\r\n",
        "from tensorflow.keras.layers import Dense,LSTM,Dropout\r\n",
        "import pandas as pd\r\n",
        "import numpy as np"
      ],
      "execution_count": 17,
      "outputs": []
    },
    {
      "cell_type": "code",
      "metadata": {
        "colab": {
          "base_uri": "https://localhost:8080/",
          "height": 197
        },
        "id": "5F-tWjQ7ZkK1",
        "outputId": "f35e2d66-049c-4035-8d2c-1bd06449b73a"
      },
      "source": [
        "df=pd.read_csv(\"train.csv\")\r\n",
        "df.head()"
      ],
      "execution_count": 18,
      "outputs": [
        {
          "output_type": "execute_result",
          "data": {
            "text/html": [
              "<div>\n",
              "<style scoped>\n",
              "    .dataframe tbody tr th:only-of-type {\n",
              "        vertical-align: middle;\n",
              "    }\n",
              "\n",
              "    .dataframe tbody tr th {\n",
              "        vertical-align: top;\n",
              "    }\n",
              "\n",
              "    .dataframe thead th {\n",
              "        text-align: right;\n",
              "    }\n",
              "</style>\n",
              "<table border=\"1\" class=\"dataframe\">\n",
              "  <thead>\n",
              "    <tr style=\"text-align: right;\">\n",
              "      <th></th>\n",
              "      <th>id</th>\n",
              "      <th>title</th>\n",
              "      <th>author</th>\n",
              "      <th>text</th>\n",
              "      <th>label</th>\n",
              "    </tr>\n",
              "  </thead>\n",
              "  <tbody>\n",
              "    <tr>\n",
              "      <th>0</th>\n",
              "      <td>0</td>\n",
              "      <td>House Dem Aide: We Didn’t Even See Comey’s Let...</td>\n",
              "      <td>Darrell Lucus</td>\n",
              "      <td>House Dem Aide: We Didn’t Even See Comey’s Let...</td>\n",
              "      <td>1</td>\n",
              "    </tr>\n",
              "    <tr>\n",
              "      <th>1</th>\n",
              "      <td>1</td>\n",
              "      <td>FLYNN: Hillary Clinton, Big Woman on Campus - ...</td>\n",
              "      <td>Daniel J. Flynn</td>\n",
              "      <td>Ever get the feeling your life circles the rou...</td>\n",
              "      <td>0</td>\n",
              "    </tr>\n",
              "    <tr>\n",
              "      <th>2</th>\n",
              "      <td>2</td>\n",
              "      <td>Why the Truth Might Get You Fired</td>\n",
              "      <td>Consortiumnews.com</td>\n",
              "      <td>Why the Truth Might Get You Fired October 29, ...</td>\n",
              "      <td>1</td>\n",
              "    </tr>\n",
              "    <tr>\n",
              "      <th>3</th>\n",
              "      <td>3</td>\n",
              "      <td>15 Civilians Killed In Single US Airstrike Hav...</td>\n",
              "      <td>Jessica Purkiss</td>\n",
              "      <td>Videos 15 Civilians Killed In Single US Airstr...</td>\n",
              "      <td>1</td>\n",
              "    </tr>\n",
              "    <tr>\n",
              "      <th>4</th>\n",
              "      <td>4</td>\n",
              "      <td>Iranian woman jailed for fictional unpublished...</td>\n",
              "      <td>Howard Portnoy</td>\n",
              "      <td>Print \\nAn Iranian woman has been sentenced to...</td>\n",
              "      <td>1</td>\n",
              "    </tr>\n",
              "  </tbody>\n",
              "</table>\n",
              "</div>"
            ],
            "text/plain": [
              "   id  ... label\n",
              "0   0  ...     1\n",
              "1   1  ...     0\n",
              "2   2  ...     1\n",
              "3   3  ...     1\n",
              "4   4  ...     1\n",
              "\n",
              "[5 rows x 5 columns]"
            ]
          },
          "metadata": {
            "tags": []
          },
          "execution_count": 18
        }
      ]
    },
    {
      "cell_type": "code",
      "metadata": {
        "colab": {
          "base_uri": "https://localhost:8080/"
        },
        "id": "k_tF82F_kK_k",
        "outputId": "b75bcbbd-1036-4b6a-eee6-6e9cfd7d3f4b"
      },
      "source": [
        "df.shape  #number of rows and columns present in dataset"
      ],
      "execution_count": 19,
      "outputs": [
        {
          "output_type": "execute_result",
          "data": {
            "text/plain": [
              "(20800, 5)"
            ]
          },
          "metadata": {
            "tags": []
          },
          "execution_count": 19
        }
      ]
    },
    {
      "cell_type": "code",
      "metadata": {
        "colab": {
          "base_uri": "https://localhost:8080/"
        },
        "id": "jSqkLaL6kh7q",
        "outputId": "d40d090e-160a-4559-8e53-1a4c424e1506"
      },
      "source": [
        "df.isnull().values.any()   #is there any null values present in dataset"
      ],
      "execution_count": 20,
      "outputs": [
        {
          "output_type": "execute_result",
          "data": {
            "text/plain": [
              "True"
            ]
          },
          "metadata": {
            "tags": []
          },
          "execution_count": 20
        }
      ]
    },
    {
      "cell_type": "code",
      "metadata": {
        "colab": {
          "base_uri": "https://localhost:8080/"
        },
        "id": "7IiDKZfKlddj",
        "outputId": "be5a6341-2124-4813-885b-7b8a2d387462"
      },
      "source": [
        "df.isnull().sum()   #printing count of null value present in dataset"
      ],
      "execution_count": 21,
      "outputs": [
        {
          "output_type": "execute_result",
          "data": {
            "text/plain": [
              "id           0\n",
              "title      558\n",
              "author    1957\n",
              "text        39\n",
              "label        0\n",
              "dtype: int64"
            ]
          },
          "metadata": {
            "tags": []
          },
          "execution_count": 21
        }
      ]
    },
    {
      "cell_type": "code",
      "metadata": {
        "id": "dwJKBnWglixH"
      },
      "source": [
        "#dropping all the null values\r\n",
        "df=df.dropna()"
      ],
      "execution_count": 22,
      "outputs": []
    },
    {
      "cell_type": "code",
      "metadata": {
        "colab": {
          "base_uri": "https://localhost:8080/"
        },
        "id": "S5pdcMjxlsAo",
        "outputId": "512c98fa-21f2-4b4e-ff2c-e89e1dcfdd6f"
      },
      "source": [
        "\r\n",
        "df.shape  # shape of dataset after removing null values"
      ],
      "execution_count": 23,
      "outputs": [
        {
          "output_type": "execute_result",
          "data": {
            "text/plain": [
              "(18285, 5)"
            ]
          },
          "metadata": {
            "tags": []
          },
          "execution_count": 23
        }
      ]
    },
    {
      "cell_type": "code",
      "metadata": {
        "colab": {
          "base_uri": "https://localhost:8080/",
          "height": 197
        },
        "id": "qcj037EYlzHK",
        "outputId": "efc77b49-e152-482e-9112-4859fad54624"
      },
      "source": [
        "\r\n",
        "#resetting the index so that the index with eliminated null value will be removed and again it will take data in serial manner\r\n",
        "df=df.reset_index(drop=True)\r\n",
        "df.head()"
      ],
      "execution_count": 25,
      "outputs": [
        {
          "output_type": "execute_result",
          "data": {
            "text/html": [
              "<div>\n",
              "<style scoped>\n",
              "    .dataframe tbody tr th:only-of-type {\n",
              "        vertical-align: middle;\n",
              "    }\n",
              "\n",
              "    .dataframe tbody tr th {\n",
              "        vertical-align: top;\n",
              "    }\n",
              "\n",
              "    .dataframe thead th {\n",
              "        text-align: right;\n",
              "    }\n",
              "</style>\n",
              "<table border=\"1\" class=\"dataframe\">\n",
              "  <thead>\n",
              "    <tr style=\"text-align: right;\">\n",
              "      <th></th>\n",
              "      <th>id</th>\n",
              "      <th>title</th>\n",
              "      <th>author</th>\n",
              "      <th>text</th>\n",
              "      <th>label</th>\n",
              "    </tr>\n",
              "  </thead>\n",
              "  <tbody>\n",
              "    <tr>\n",
              "      <th>0</th>\n",
              "      <td>0</td>\n",
              "      <td>House Dem Aide: We Didn’t Even See Comey’s Let...</td>\n",
              "      <td>Darrell Lucus</td>\n",
              "      <td>House Dem Aide: We Didn’t Even See Comey’s Let...</td>\n",
              "      <td>1</td>\n",
              "    </tr>\n",
              "    <tr>\n",
              "      <th>1</th>\n",
              "      <td>1</td>\n",
              "      <td>FLYNN: Hillary Clinton, Big Woman on Campus - ...</td>\n",
              "      <td>Daniel J. Flynn</td>\n",
              "      <td>Ever get the feeling your life circles the rou...</td>\n",
              "      <td>0</td>\n",
              "    </tr>\n",
              "    <tr>\n",
              "      <th>2</th>\n",
              "      <td>2</td>\n",
              "      <td>Why the Truth Might Get You Fired</td>\n",
              "      <td>Consortiumnews.com</td>\n",
              "      <td>Why the Truth Might Get You Fired October 29, ...</td>\n",
              "      <td>1</td>\n",
              "    </tr>\n",
              "    <tr>\n",
              "      <th>3</th>\n",
              "      <td>3</td>\n",
              "      <td>15 Civilians Killed In Single US Airstrike Hav...</td>\n",
              "      <td>Jessica Purkiss</td>\n",
              "      <td>Videos 15 Civilians Killed In Single US Airstr...</td>\n",
              "      <td>1</td>\n",
              "    </tr>\n",
              "    <tr>\n",
              "      <th>4</th>\n",
              "      <td>4</td>\n",
              "      <td>Iranian woman jailed for fictional unpublished...</td>\n",
              "      <td>Howard Portnoy</td>\n",
              "      <td>Print \\nAn Iranian woman has been sentenced to...</td>\n",
              "      <td>1</td>\n",
              "    </tr>\n",
              "  </tbody>\n",
              "</table>\n",
              "</div>"
            ],
            "text/plain": [
              "   id  ... label\n",
              "0   0  ...     1\n",
              "1   1  ...     0\n",
              "2   2  ...     1\n",
              "3   3  ...     1\n",
              "4   4  ...     1\n",
              "\n",
              "[5 rows x 5 columns]"
            ]
          },
          "metadata": {
            "tags": []
          },
          "execution_count": 25
        }
      ]
    },
    {
      "cell_type": "code",
      "metadata": {
        "colab": {
          "base_uri": "https://localhost:8080/"
        },
        "id": "9yrRftyxmq9u",
        "outputId": "dd238f99-193e-4f54-8367-e1133803e9a5"
      },
      "source": [
        "#splitting the dataset into dependent and independent variable\r\n",
        "X=df.drop(\"label\",axis=1)\r\n",
        "Y=df[\"label\"]\r\n",
        "print(X.shape)\r\n",
        "print(Y.shape)"
      ],
      "execution_count": 26,
      "outputs": [
        {
          "output_type": "stream",
          "text": [
            "(18285, 4)\n",
            "(18285,)\n"
          ],
          "name": "stdout"
        }
      ]
    },
    {
      "cell_type": "code",
      "metadata": {
        "colab": {
          "base_uri": "https://localhost:8080/",
          "height": 35
        },
        "id": "NKDFPDBezpmI",
        "outputId": "1e2c5e1b-93c0-4757-cdd4-17866013bb7a"
      },
      "source": [
        "\r\n",
        "X[\"title\"][0]"
      ],
      "execution_count": 27,
      "outputs": [
        {
          "output_type": "execute_result",
          "data": {
            "application/vnd.google.colaboratory.intrinsic+json": {
              "type": "string"
            },
            "text/plain": [
              "'House Dem Aide: We Didn’t Even See Comey’s Letter Until Jason Chaffetz Tweeted It'"
            ]
          },
          "metadata": {
            "tags": []
          },
          "execution_count": 27
        }
      ]
    },
    {
      "cell_type": "markdown",
      "metadata": {
        "id": "YZE5xCZdnSZz"
      },
      "source": [
        "## Text Preprocessing"
      ]
    },
    {
      "cell_type": "code",
      "metadata": {
        "id": "AF9TvMy1mtdO"
      },
      "source": [
        "import string\r\n",
        "import re\r\n",
        "import nltk\r\n",
        "from nltk.corpus import stopwords\r\n",
        "from nltk.stem import PorterStemmer"
      ],
      "execution_count": 28,
      "outputs": []
    },
    {
      "cell_type": "code",
      "metadata": {
        "colab": {
          "base_uri": "https://localhost:8080/"
        },
        "id": "vK2Fg6S3tf-_",
        "outputId": "c605ff21-027c-4caf-82fc-765c8ae0d48a"
      },
      "source": [
        "\r\n",
        "nltk.download(\"wordnet\")\r\n",
        "nltk.download(\"stopwords\")"
      ],
      "execution_count": 29,
      "outputs": [
        {
          "output_type": "stream",
          "text": [
            "[nltk_data] Downloading package wordnet to /root/nltk_data...\n",
            "[nltk_data]   Package wordnet is already up-to-date!\n",
            "[nltk_data] Downloading package stopwords to /root/nltk_data...\n",
            "[nltk_data]   Package stopwords is already up-to-date!\n"
          ],
          "name": "stdout"
        },
        {
          "output_type": "execute_result",
          "data": {
            "text/plain": [
              "True"
            ]
          },
          "metadata": {
            "tags": []
          },
          "execution_count": 29
        }
      ]
    },
    {
      "cell_type": "code",
      "metadata": {
        "id": "HZ5cw51nnqeF"
      },
      "source": [
        "\r\n",
        "filtered_sent=[]\r\n",
        "stemmer=PorterStemmer()\r\n",
        "for i in range(0,len(X)):\r\n",
        "  sent=re.sub(r\"[^a-zA-Z]\",\" \",X[\"title\"][i])  #removing all the alpha numeric word rather than english alphabet\r\n",
        "  sent=sent.lower()        #converting all those word into lowercase english alphabet\r\n",
        "  cleaned=sent.split()       #splitting the value into list of words\r\n",
        "  cleaned=[stemmer.stem(word) for word in sent if not word in  set(stopwords.words('english')) if len(word)>2]\r\n",
        "  cleaned=\"\".join(cleaned)\r\n",
        "  filtered_sent.append(cleaned)"
      ],
      "execution_count": 30,
      "outputs": []
    },
    {
      "cell_type": "code",
      "metadata": {
        "colab": {
          "base_uri": "https://localhost:8080/"
        },
        "id": "hqQxeHxHsbmM",
        "outputId": "e8cc954f-3e7f-4842-f9c2-32598939f82d"
      },
      "source": [
        "filtered_sent"
      ],
      "execution_count": 32,
      "outputs": [
        {
          "output_type": "execute_result",
          "data": {
            "text/plain": [
              "['hue e e  we n  even ee ce  leer unl jn chffez weee ',\n",
              " 'flnn  hllr clnn  bg wn n cpu   brebr',\n",
              " 'wh he ruh gh ge u fre',\n",
              " '   cvln klle n ngle u rrke hve been enfe',\n",
              " 'rnn wn jle fr fcnl unpublhe r bu wn ne  eh fr uler',\n",
              " 'jcke n  hllw wul lve rup f he bbe nrh kre ver lck f rn bhr  excluve ve    brebr',\n",
              " 'ben  hn wn french cl pr  preenl nnn   he new rk e',\n",
              " ' bck chnnel pln fr ukrne n ru  cure f rup ce   he new rk e',\n",
              " 'b  rgnzng fr cn prner wh r lnke  nvble   rup rup  gen',\n",
              " 'bbc ce kech  rel huewve f   cue urge',\n",
              " 'run reercher cver ecre nz lr be  reure huner  n he rcc  ph ',\n",
              " 'u ffcl ee n lnk beween rup n ru',\n",
              " 're  e  here re p gvernen rll n cl e  blg  fru n webe',\n",
              " 'n jr legue ccer  rgenne fn  he n ucce   he new rk e',\n",
              " 'well frg chef brupl ep wn   he new rk e',\n",
              " 'nnu nr p      lln  relee everne rree  he k cce ppelne',\n",
              " 'fb cle n n hllr ',\n",
              " 'chuck    buzzfee  nl rup  plcl fvr    brebr',\n",
              " 'nc lewnk  clnn ex cnl e fr  ercn cre r ',\n",
              " 'rb rener  rup   enll unble    brebr',\n",
              " 'brn pll rer re n   ln ercn nn n zk ler   he new rk e',\n",
              " 'nuke n he un   hrc re  bn nucler wepn',\n",
              " 'excluve  lc e upprer vw   hke  he we fllwng ncheer errr cre   brebr',\n",
              " 'hule hllr re  he wh cer cugh    n befre rll',\n",
              " 'nre nr f fx new cl reln fr ex hren cpln   he new rk e',\n",
              " 'hw hllr clnn bece  hwk   he new rk e',\n",
              " 'chuck   buzzfee ec   u ju publhe fke new    brebr',\n",
              " 'hvng wn  br jhnn n  brex  leer fuble   he new rk e',\n",
              " 'ex l fel rebun fr prce lull  bu jb re lef behn   he new rk e',\n",
              " 'ber el fr nn fllw grbune ren  rng wrre fr frer   he new rk e',\n",
              " 'ru ve  bn jehvh  wnee   exre    he new rk e',\n",
              " 're  wh we re ll n  he nger zne  unl jnur   h      ',\n",
              " 'pen hre  n u   elecn         ',\n",
              " 'ecr guerrez ble chcg  gun vlence n nr   brebr',\n",
              " 'vng penu  v n llerg   b reg fr    he new rk e',\n",
              " 'r hw ele ge f    week unbrn bbe   brebr',\n",
              " '  f he be kn f lk h ren  r',\n",
              " 'rn lche rppe b pee u n her reler   he new rk e',\n",
              " 'cnervve urge en  clen u b  cvl rgh vn   brebr',\n",
              " 'nernl nqur ele he fe f rger le  fx   he new rk e',\n",
              " 'pre v ebe  uff n lebnn  hezbllh n un  preenc    ve ',\n",
              " 'ung  fer cbuble glx ne    unvel new rphne   he new rk e',\n",
              " 'pln vw referenu n grn qu  eu preure   he publc  vce wll be her    brebr',\n",
              " 'prkng n nner revlun',\n",
              " 'u  re hn hlf f cr crhe nvlve rver rce b cell phne   brebr',\n",
              " 'he rup elecn wll prk re nvul   cllecve helng',\n",
              " 'ep      fe  blck j church w  lur eenhwer   rerng he blnce  ve ',\n",
              " 'cgnn n rue l    bk revew',\n",
              " 'f nl rup wn he elecn   wll be he bgge rcle n u plcl hr',\n",
              " 'nful eng  w  fgh bngeng   he new rk e',\n",
              " 'he jr penl pc f  crpre x verhul   he new rk e',\n",
              " ' wner wh glp wll be lke he  fer he elecn ',\n",
              " '  ker f wrl  lle chne wre nbel prze n cher   he new rk e',\n",
              " 've n rup pre  unn qure nc lve re',\n",
              " 'revew   ln  brng er fr  l b  wpe r b ggle   he new rk e',\n",
              " 'u   generl  lc e checl ck h  n pc  n u   frce',\n",
              " 'jur fn ll regn nff efenn n gul f feerl cnprc  gun chrge',\n",
              " 'clnn cpgn unne  fb reprel repen prbe n hllr clnn el',\n",
              " 'pence wll pek  n brn rll   he new rk e',\n",
              " 'berne ner  wh he e wn   rup   gule plcl cwr',\n",
              " 'hw  ke brquee fr l we',\n",
              " 'ren  n vw  reecn   reprng ',\n",
              " 're lke  wn  wh e h en    he new rk e',\n",
              " '     ell brennn ll fee  n le  new rlen   he new rk e',\n",
              " 'preng  gen  b re lghl n hun rgh   he new rk e',\n",
              " 'ecr hve     percen chnce  reke he ene   he new rk e',\n",
              " 'juge pnk rngener bee b  u le    reflg new',\n",
              " '   u   pl urge rke gn  n r   he new rk e',\n",
              " 'frnken cll fr  nepenen nvegn  n rup   pun cruh    brebr',\n",
              " 'lun  ne ble  u   preenl rce  ur ue evenng brefng   he new rk e',\n",
              " 'urke hreen  pen grn  ln pge   eurpe fer rw wh uch',\n",
              " 'hu  wener g hllr',\n",
              " 'cln kepernck r blck pnher npre uh cp  ww ',\n",
              " 'rup  grn plce explne   he new rk e',\n",
              " 'r ler re  urne b ck vn ke n her r   he new rk e',\n",
              " 'pn',\n",
              " 'rup fn rll cr he nn  uppr he preen   he new rk e',\n",
              " 'fx bz reprer cn  help bu bh clnn  rll fer cverng rup  pcke even  befre',\n",
              " '   fcn pc wrh  len   he new rk e',\n",
              " 'ke brbgl    p fr kng  ll n hllw  r nwhere    he new rk e',\n",
              " 'nveen reg frec cllpe elne   he l gp f h ecnc ccle wll ce n      ',\n",
              " 'venezuel uzzle leglure  vng cler  ne n rule   he new rk e',\n",
              " 'wheher   jhn ccn   rne r nl rup  ecr lw run  wr n wen  cc  er he republcn cne',\n",
              " 'brebr new l  rup b   brebr',\n",
              " 'whe hue cnfr re g rnfer befre b leve ffce',\n",
              " 'pll   ver hve n her f ecrc      elecn cne   brebr',\n",
              " 'grn cnfrn jugen  ver l eprn rer   he new rk e',\n",
              " '     n  u  n le re ue ver rereen pln fee   he new rk e',\n",
              " 'echncrc  he rel ren wh he un wn cnrl ver he nerne',\n",
              " 'ercn rver regn ppee fr g guzzler   he new rk e',\n",
              " 'hllr clnn bul      lln wr che  ublng nl rup   he new rk e',\n",
              " 'rup cche wh ck reprer nuck n nervew  h prcele repne',\n",
              " 'll     enr cnce run gvernen h week',\n",
              " '   ge h perfecl llure he ruggle gn he k cce ppelne',\n",
              " 'whngn e ke    refugee    ul re f cunr ke     refugee      ul   brebr',\n",
              " 'nc  bg    keep wchful ee n ex bhr bll   brebr',\n",
              " 've epn fnncl  ubcrber le rg wn ne  fr qurer le   brebr',\n",
              " 'egn kell  cnrc e  expre nex er   pre fr he bg hw   he new rk e',\n",
              " 'echer upene fr llwng uen  h rup pn fr cnc e ',\n",
              " 'brekng   rup expree cncern ver nhn wener   llegl cce   clfe nf   nh g   ruhfee',\n",
              " 'np hre lep     n ebu  nver ub vlue wll vnh   he new rk e',\n",
              " 'clnn cpgn chr h nner wh p j ffcl ne  fer hllr  benghz herng',\n",
              " 'v ere bu  fr fele lb pcher  cnne fer ne  lw re en   brebr',\n",
              " 'eekng be f  wen  fnl fur reurn  fr un   he new rk e',\n",
              " ' prpl fr  cnn nnl br ruffle feher   he new rk e',\n",
              " 'revew  benc  ke  lene  u f rl rfe   he new rk e',\n",
              " 'rup  k fr hrp ncree n lr penng  ffcl    he new rk e',\n",
              " 'wh  h n werge  kng gun el cu  clenng up  b hllr el',\n",
              " ' chp rp hue   new lef wng pc   flgrn rp ff f he rgh uff',\n",
              " 'wn repn fer chn en crrer  wn r   he new rk e',\n",
              " 'he her f ll cber urpre wh he hue f cr wll nw ce ublng wn',\n",
              " 'explve nge plger nervew n u elecn  expec r f hllr wn',\n",
              " 'elecpe h  e rn   n rck  urp hubble   he new rk e',\n",
              " 'cle fghn pkn brer  becng  hunrn cr    he new rk e',\n",
              " 'v nchr rrve  he whe hue fr lunch wh nl rup   brebr',\n",
              " 'pel  republcn hul ell rup he   brngng hnr   he preenc   brebr',\n",
              " 'he beuful prehrc wrl   erh nw  weln ',\n",
              " ' gnre rup new fr  week  here  wh  lerne    he new rk e',\n",
              " 'nl rup unvel pln fr fle n b fr wen  ve   he new rk e',\n",
              " 'nn ecr ve gn bll bnnng hr lw  cll   repugnn    brebr',\n",
              " 'he nn rbunl  ver  hw   g  n wh hppen nw ',\n",
              " '  ffcl  ne ble  he wrl  be gn   he new rk e',\n",
              " ' lerll hur  brn  re he ecnc c ee b rupkn   lberrn',\n",
              " 'u n  ecrer generl cpln h he  e hve rejece glbl  n fvr f nnl',\n",
              " 'rup bllw  en  w nn ercn ver  n hlru fl  ve ',\n",
              " 'fb fn prevul uneen hllr clnn el n wener  lpp',\n",
              " '  er fer h ercn jurnl w klle  her  cnprc here  n r re prven  fc',\n",
              " 'repr  llegl len freg f p   ff rup  rr',\n",
              " 'ke neherln gre gn  hhh   preng wrlwe ',\n",
              " 'fur klle     njure n jerule ruck rng errr ck',\n",
              " 'he leer lue cre new n brul egn  c  kell bewn   we n  pl ge ',\n",
              " 'uen  blck cllege ju g been n ce fr preng kkk  v uke',\n",
              " 'epe rc gun cnrl  ne  chl r uh  h ever  n nr',\n",
              " 'he re f he nerne fn bull   he new rk e',\n",
              " ' newl vbrn whngn fer h rup wll rn  culure   he new rk e',\n",
              " 'fe hl nere re e n pln lwer ncree   he new rk e',\n",
              " 'he ble  unec',\n",
              " 'he le e fr he whe hue  pullng ff  eer egg rll   he new rk e',\n",
              " 'burleque ncer fre  nvege b ecre ervce fr rup nn wee   brebr',\n",
              " 'wh he clnn   h',\n",
              " 'fr cu n chre  prllel ph  he p  n ruble when he g here   he new rk e',\n",
              " 'he p    plce n he wrl u re n llwe  v',\n",
              " 'new u lnk flure cnupn  hphr  wegh gn  n wre',\n",
              " 'je    ecrer f ffene',\n",
              " ' blck church w ju burne n pr pne  ve rup ',\n",
              " 'er gree  ell crfn  nle blck  p ecker  re ch   he new rk e',\n",
              " 'k chef execuve  regn  fnncl preure un   he new rk e',\n",
              " 'gbe  fr g   blck bbh   he new rk e',\n",
              " 'een  geh ll  gng bue fr re rbbere   brebr',\n",
              " 'h khwe  nher  vrgn n   plenn ercn ul  chrge wh errr',\n",
              " 'prce n bcre replceen   nb wll be wre ff fnncll    brebr',\n",
              " 'v fl  prperl exne hun f veern',\n",
              " 'rup fl lre  wrn  ecrec  bu fke n lnng  re n ',\n",
              " 'pr wrer  nfl gre j brwn  ece f cvl rgh wrk  ere fr ng nce hng bu nl rup   brebr',\n",
              " '  cn wch  n v   excue fr republcn kppng  nl rup cnvenn   he new rk e',\n",
              " 'h pen leer  rup ver ju l   lke   ',\n",
              " 'cen n h pwerful crpre lbb  quel bckng hllr   n nb  lkng bu  b runnquckn',\n",
              " 'hjckng en pecefull fer lbn rlner ln n l   he new rk e',\n",
              " 'u n  lke he grl n  grl   h   genu    he new rk e',\n",
              " 'cen  cnn bcer fl  be erh  le   he new rk e',\n",
              " 'pr gvernen frce vnce n r  lk f u   ru cpern   he new rk e',\n",
              " 'wh cncer genc uner fre fr whhlng  crcngenc glphe  cuen',\n",
              " 'wrk  wlk   nue  wrk    he new rk e',\n",
              " 'eve hrve lk hung wh preen elec rup   he new rk e',\n",
              " 'cln  u   rp fghng n ul ffenve  ce uner fre ',\n",
              " 'uk czen n wr here ge chep pre fb hue whle ul clnzer ge xper fune luxuru cuncl he',\n",
              " 'fer ve fgh wr  fe en ne bck  bu llegl n refugee cn keep her ne',\n",
              " 'r  rup  wl re   he new rk e',\n",
              " 'here  hw fb recr ce bbzle he j  cngre  n he clnn ll  nce',\n",
              " '   f h nurll unclg rere n preven her ck',\n",
              " 'eh f he  w e lun ',\n",
              " 'cen n pren n  e were leep n cr when cp rrve n klle he bh b fcepce',\n",
              " 'nl rup  e hw few gn f p elecn ern   he new rk e',\n",
              " ' bech re  e   rucu ree  bu he fhbwl rnk cn     he new rk e',\n",
              " 'cr erul fun e fer u fr brekhrugh cure fr cncer',\n",
              " 'nl rup  he unnkble cne   he new rk e',\n",
              " 'hckng new ck hllr  cpgn wrn he ll ke u  wr   enlfrher   fghfrher   efrher',\n",
              " 'excluve    fl f ln brer prl gen brn err  erc hler ng  he rel crnl  repnble',\n",
              " 'rup ell reprer   wll wrk   ju k rel    brebr',\n",
              " 'wll erc urvve he nex   er ',\n",
              " 'cner r  pre cleveln nn bu lg   he new rk e',\n",
              " 'he un pln  pln everne wh  berc   h  n  rll',\n",
              " 'rup ck enr  crebl ver gruch  cen   he new rk e',\n",
              " 'clnn vr le  n leke el ver hllr  llegl cv',\n",
              " 'r lffer   pul rn  ju bu perfec rgh nw    brebr',\n",
              " 'hw nl rup wll be ble fr ecnc crh',\n",
              " 'pken g pler re nverenl ppng peple cng uce n jpn',\n",
              " 'clfrn ene rce   le f ver n  fllng g  p    he new rk e',\n",
              " 'excluve  urce  egn kell  wul n be welce bck   fx new',\n",
              " 'n brek wh preceen  b env re ene exenn p nugurn    he new rk e',\n",
              " 'hw wll  brex  ve g  n phn  ffer clue   he new rk e',\n",
              " 'bln c wh prece      h b new bu rup',\n",
              " 'l veng fl  lef wng nwen fn grl rel wnner ge cce  ur n ecre',\n",
              " 'n l  u   ecle  hw wr   he new rk e',\n",
              " 'free cre   bleng  fr vc f rln nghclub ck   he new rk e',\n",
              " 'he  urbl ecrc cun n he cunr cul g fr rup',\n",
              " 'fe  chllenge  fer rng re   be exenl   he new rk e',\n",
              " ' ru h n nenn f ckng nne  h  bur    vlr pun',\n",
              " 'f    nvege errn flgh nvlvng hrrn fr   he new rk e',\n",
              " 'fe re ke nere re  cng renghenng ecn   he new rk e',\n",
              " 'l expre n  n  l guene   e l   ulz n  l guene  en el celln',\n",
              " ' rup bere new e   new reg  neee  cver h   he new rk e',\n",
              " 'u   rne rke rge lbn leer   he new rk e',\n",
              " 'u   nellgence   expec l qe ck n n new rk  vrgn n ex ',\n",
              " 'wh f  l u cnnb  gre fr reverng lzheer  ',\n",
              " 'repr  egn kell  kck ff nbc hw wh krhn fl nervew',\n",
              " 'ur lcl   percener  n be  rch  u hnk   he new rk e',\n",
              " 'r  v uke wh rk clle f he uk  clle expln wh uke   rup vcre wul chnge plc frever ',\n",
              " 'n een  ene  well frg chef   eepl rr    he new rk e',\n",
              " 'cnn een nce newrk fr buzzfee fke new er   brebr',\n",
              " 'c e   pner  new ge  wh rup  rule   he new rk e',\n",
              " 'pcer n br  len jere   nher b n he pre    brebr',\n",
              " ' cre c  nvegn n wh peple enj fer   he new rk e',\n",
              " 'he lef  vn',\n",
              " 'hwwn l  u   quen chnee el fr gern chp egner   he new rk e',\n",
              " 'rup nrn  ke hrer ck n re wh chn   he new rk e',\n",
              " 'pew  ercn ru level n feerl gvernen plue  hrc lw   brebr',\n",
              " 'lc e upprng frer nnl gurn ple gul  errr chrge n vrgn',\n",
              " 'pcer  reprer   we re gng  re ur hn lke bg b n grl    brebr',\n",
              " 'leer pplu gruch cnfrn   wn fr pr lfe veen ',\n",
              " 'newcker      ',\n",
              " 'french vgue  rch cver feure  rngener el   he new rk e',\n",
              " 'rup veer fr pr lne n gun cnrl   he new rk e',\n",
              " 'hw he lgrch h prepre he grunwrk fr elng he elecn',\n",
              " ' h   reencuenr e  perc n runf  que ecne e  perc n runf ',\n",
              " ' chwrh hue   le f fve cenure   he new rk e',\n",
              " 'he uncfrble lve ffr beween nl rup n he new engln pr   he new rk e',\n",
              " 'jhn ccn whrw uppr fr nl rup fer clure f recrng   he new rk e',\n",
              " 'he rnge  unenng lb f egp  hn ubrk   he new rk e',\n",
              " 'pver re n     f u   hue rc  urng b  preenc',\n",
              " 'hu ben eek fb un el',\n",
              " ' ngle  ecpe he fren zne  ne nn e   e   he new rk e',\n",
              " 'beng u up fr fuure f pceflgh wh new pceu egn   brebr',\n",
              " 'rup fl n lve brnch  gh keep pr f he helh lw   he new rk e',\n",
              " 'wp re  cpre elzbeh wrren brekng ene rule  l beng hu wn b vlen r   brebr',\n",
              " ' cruple chl bu leve chng ze   he new rk e',\n",
              " 'he e n ce bck  lfe wh h ncreble ege fr hun',\n",
              " 'hw he fgh fr  nnl frcn ercn ueu w wn   he new rk e',\n",
              " 'fher f ncheer uce bber rree n lb   brebr',\n",
              " '  ecre bu rue leer',\n",
              " 'ul en lcl n  wlk g n publc   vln f hr n  repec  he',\n",
              " 'hllr cpgn nw n be wh pc ff h ne     k  fb gen  wfe fer nvegn',\n",
              " 'll n ver  he re rng   flp he elecrl cllege   blck rup  wn',\n",
              " 'l hrpn  e  n pn ppelng   rche bunker  rup ver   brebr',\n",
              " ' u hnk here wll be  n  er f rup hul ge n ffce  ',\n",
              " 'ecr jup n en regnn bn wgn   brebr',\n",
              " 'l rgh rchec glenn beck pen fre n l rgh   grve hre  he republc   u  wee ',\n",
              " 're plcze juce  prec hllr',\n",
              " 'nrh crln  ure n urpre  reel fr hurrcne hew   he new rk e',\n",
              " 'he lve he lve  ub ur ere   he new rk e',\n",
              " 'chevng nfulne  wrk  n en cuhn requre   he new rk e',\n",
              " 'wrl  fr zer en hrgen pwere penger rn unvele n gern',\n",
              " 'cnfue b chp cre cr  ge n lne   he new rk e',\n",
              " 'brk  rup  ng wh  fregn leer gn he u preen  n rel n ru   brebr',\n",
              " 'here  xc r n ur he n h  u cn ge r f  nurll',\n",
              " ' cnneccu reer repr recr ver regrn npre b rup',\n",
              " 'gern rec  erkel rup v   cul hve been  l wre    he new rk e',\n",
              " 'jun re uuel henrk enn fr glf gl el   he new rk e',\n",
              " 'celn  wer cure   he new rk e',\n",
              " '    hren l rn huwn     nh   he new rk e',\n",
              " 'wh e wll he preenc be ece    he new rk e',\n",
              " 'u n  relef ffcl cll cr n lepp he  pex f hrrr    he new rk e',\n",
              " 'fer berkele  re he vlen  n peech lef lke he kkk',\n",
              " 'cl prpgn  hw n rn h u rege chnge klle ',\n",
              " 'wh elf help guru je lucher nl wn    hng   he new rk e',\n",
              " 'rup  relgu lber rer gve en jr leew   brebr',\n",
              " ' eler pr cnr lg  kek     cngre   ',\n",
              " 'n er f rup  chn  preen chpn ecnc glblzn   he new rk e',\n",
              " 'he  g f jhn wlker lnh  rebel whu  clue',\n",
              " 'cur gree ver chgn ve recun   he new rk e',\n",
              " 'berne ner  feu wh he ecrc leerhp he up   he new rk e',\n",
              " 'he hre n  pwerful explnn f rup  vcr  hve ever een',\n",
              " 'ru lk  ppule  fr e  wp nee n ppl    he new rk e',\n",
              " 'he jhnn enen  whch rup vw   er   explne   he new rk e',\n",
              " 'nl rup  rch fr lfe   u hve  full uppr  ',\n",
              " 'plce ffcl fun e n lng ln  n uce  upece   he new rk e',\n",
              " 'rcl chnge re n re fr he wrl n glbl rke  re u re ',\n",
              " 'wh   lke  ke  n hwbz wh ur be fren   he new rk e',\n",
              " 'rup nne nel gruch  he upree cur   he new rk e',\n",
              " 'ber c ub n erune f excn brer wll prjec',\n",
              " 'wh   ke n he u elecn ',\n",
              " 'rel pprve nl funng fr eleen n we bnk   he new rk e',\n",
              " 'x gv bb   wll gn legln h cul pu herff f ncur ce n jl   brebr',\n",
              " 'nl rup hl  hnk u  rll n cncnn  n nnunce h pck fr efene ecrer   he new rk e',\n",
              " 'e lwker nw lk  bprnhp n helh cre   he new rk e',\n",
              " 'ne he cnervve puh fr e  en he cnun   he new rk e',\n",
              " 'nl rup ell n r   hllr clnn wn  le vlen crnl g free   he new rk e',\n",
              " 'ppe frnc  rup  jpn  ur ue brefng   he new rk e',\n",
              " ' rn ll  u uppr fr llegl grn',\n",
              " 'rup  cpgn fr celebr',\n",
              " 'ecr rg u jeff en  cnfrn fgh   brebr',\n",
              " 'brekng new  pe brher pe rng  r  rup  rn he wp     v  he guerrll ecn',\n",
              " 'l fre   ec el ebe e nveur',\n",
              " 'cnfung jh wh hrbh wn  bul  re peceful wrl',\n",
              " 'lz lberl jurnl er bnnn',\n",
              " 'url wll cle eenn cener n nu ln  bu ll wn  ccep lu eeker   he new rk e',\n",
              " 'plc  hllr clnn  runnng gn   brebr',\n",
              " 'gn lnx ke he  rble un  whenever h hun rub h fce',\n",
              " 'nne cp fun n gul n phln cle hng rl',\n",
              " '    lln ercn klle n    nue',\n",
              " 'wne en  he c h lw erve he nere f wll ree',\n",
              " 'nveber     l cnrrn re',\n",
              " 'flhbck   repr  b       cpgn rep lke wh rn  h',\n",
              " 'leerfwevl',\n",
              " ' ch  he fr e  e  vegeble   w       he new rk e',\n",
              " 'rup ver  rel eleen  n llegl ',\n",
              " 'eren wll prevl n pener  n prble   he new rk e',\n",
              " ' ul n   re  hnre   perfr  rup nugurn',\n",
              " 'wll ferrell ju ce bck  buh  er rup  ve ',\n",
              " 'chnee gvernen n cncerne wh ugh lk fr rup cbne   brebr',\n",
              " 'bllnre  repre eze fr hng kng hel n ken n chn   he new rk e',\n",
              " 'e  knw wh  up   lnk',\n",
              " ' heb fn he ule he ffce   he new rk e',\n",
              " 'nn culer unl n pul rn   eepl unppulr  bcre     bll   brebr',\n",
              " 'rngener bhr ebe urn pernl   vern hgh chl   he new rk e',\n",
              " 'wh b n hllr wne lb  gf pple n klle',\n",
              " 'ler  frer r ce ju wrne he pr hve  wrng  gl   lver wll krcke lke he     ',\n",
              " ' hllr pnckng ver he fb n wener el ',\n",
              " 'n    chc nue  rup efen  fne une chne    he new rk e',\n",
              " 'ne plce hf  prllng n nxu erc   he new rk e',\n",
              " 'fghng gh fc whle ng rel ne',\n",
              " 'ur n evenng brefng  brex  brn   ge f hrne    he new rk e',\n",
              " 'eu ncree  brex bll  en       blln  up fr     blln',\n",
              " 'rnn huffngn  leep revlun r  he   he new rk e',\n",
              " 'rnn le ccenll er rnn hp e fr r ',\n",
              " 'n cun clfrn ju ve  cree he lrge g free zne n erc',\n",
              " 'fb  ce  wklek   nellgence prn   n jurnl   brebr',\n",
              " 'clre wgh keller  ne fr fele egner f gvench   he new rk e',\n",
              " 'rele fce b blck cnn re  nnl he',\n",
              " 'p nfl rf prpec cleb brnle chrge wh punchng  wn n he fce   brebr',\n",
              " 've n he pcfc cre rl cn n he lv fnc urer',\n",
              " '   lfe len fr  n wh  een       eh',\n",
              " 'rup n g  p  wrk  wn repel f b  helh c   he new rk e',\n",
              " 'lnc  glberg     n cnfen  rup cn hnle  er f lfe n eh    brebr',\n",
              " 'wh h rhx rbb uppr rup',\n",
              " 'nucler enn beween u  ru rech  ngeru  pn',\n",
              " 'gb jn uh frc n burun n exu fr nernnl crnl cur',\n",
              " 'pen nnng glfe wh preen rup n un',\n",
              " 'b urge nl rup  en  gnl f un   nr grup n wen   he new rk e',\n",
              " '   lke  rcle   wn gve brh ung vr frzen nce chlh   he new rk e',\n",
              " 'ucnn  recpe fr ucce   run  run n run e re   he new rk e',\n",
              " 'nge  fnll ffre pprun   gve een ver rpe ccun',\n",
              " 'hllr  puppe hw ju hw uch hllr cre bu g wh n f   wr',\n",
              " 'he ck rke h gne  hgh     prble   he new rk e',\n",
              " 'jhn kerr rejec uggen f u   nvlveen n urke cup   he new rk e',\n",
              " 'rup e ephen ller  he u    h n blue veregn rgh  eerne wh cn n cnn ener he cunr    brebr',\n",
              " '  er l run grl pek   lnguge  hw  he  h ',\n",
              " 'h pwerful crpre lbb  quel bckng hllr   n nb  lkng bu ',\n",
              " 'nnng  unn pr n he fce f hrhp   he new rk e',\n",
              " 'ruh lbugh  ce frng n  epc rll  b rup n e   brebr',\n",
              " 'wer ue he gvernen  blck he unkng f n ccun crcl f rup   he new rk e',\n",
              " 'wrrr  relen  he  crue gn he cvler   he new rk e',\n",
              " 'ce leer n clnn el  ubjec f juce ep  nqur   he new rk e',\n",
              " 'pn  l  uner u   uk preure  refue  llw run crrer grup  refuel n her pr',\n",
              " 'revew  n rhe    n hpe pl   pen perfecn   he new rk e',\n",
              " 'h  he n lrze plce  nng rck re wrkng fr',\n",
              " 'wn rree n wn prper fer her ln w len b pl',\n",
              " 'pulzer prze  new rk e wn   l new n prpublc hre publc ervce wr   he new rk e',\n",
              " 'he vnquhe  wne he kever  buhe  clnn wll en nl rup  nugurn   brebr',\n",
              " 'peculn ver pble b prn f ewr nwen  bwe berghl n chele nnng   brebr',\n",
              " 'chee he pe fr he ul   he new rk e',\n",
              " 'unprncple wp er ne ce crc   nw jn he',\n",
              " ' nn  wrecke  b grn   cvl wr  brewng   gng wee urn gn ul grn  vlence  rpe n urer',\n",
              " 'n      h e b ffcer h  crucfx  n  gun  plce    he new rk e',\n",
              " 'excluve rep  j jrn n rup  fr         hnk we re ff   gre r    brebr',\n",
              " 'hle  ck n r  ne f he preen  fne hur    brebr',\n",
              " 'jun beber efece n rng rh fn fr hel wnw',\n",
              " 'wh cncer genc uner fre fr whhlng  crcngenc glphe  cuen',\n",
              " 'gnn clwell cl hllr nl cre bu blck ve  n blck lve',\n",
              " ' ue rn  cllng fr new errr ck   he new rk e',\n",
              " ' l hw  ck  h blne  egn kell  nbc ebu',\n",
              " 'helh cre bll  flure  ju pr f he  r f he el    brebr',\n",
              " 'lewnwk  ce   lr    lkng  gn jr bk el   brebr',\n",
              " 'kberl gulfle cue penl whe hue pre ecrer jb n nervew',\n",
              " 'clnn  cpgn chrn jhn pe nve  n ccul  pr ckng  nner b rn brv ',\n",
              " 'hw he b cln cruble  levng n penng fr rup   he new rk e',\n",
              " 'pregnnc chnge he brn n w h  help herng   he new rk e',\n",
              " 'fe pen ln wnw  re cr re  hu wn heler',\n",
              " 'gprl  nerweb f g energec re renghene',\n",
              " 'crbrugh  rup pp h pn  cll   ern r    brebr',\n",
              " 'when ckng  nve e  r wrk  n bh    he new rk e',\n",
              " 'b new fr jckn fl  wn lek r  ck     k ex ecre',\n",
              " 'gruch  lnn  republcn pr  ur hur evenng brefng   he new rk e',\n",
              " 'e rn  l pern brn n       e   brebr',\n",
              " 'lerplz    crze cene fr n rup pre   brebr',\n",
              " 'wh e  rup vcr en fr frc ',\n",
              " 'vn f lfe n r n erh  eph   he new rk e',\n",
              " 'fer b cncel lk  rrg uere f phlppne  he regre lur   he new rk e',\n",
              " 'new jere wll ncree g x      enng lng plcl lee   he new rk e',\n",
              " 'bc  ncheer ck  lkel  nfle n lc enen    brebr',\n",
              " 'hen n pln gh   he glbl eppuln gen',\n",
              " 'he jb ercn    he new rk e',\n",
              " 'ner k b  nervene n k cce ppelne pue',\n",
              " 'ggle  jb ecn  erch engne  nclung epler rng   brebr',\n",
              " 'crng jrn  he ee h ju wn  e   he new rk e',\n",
              " 'e rep  nchez  rup h ue  fer  f ul n grn  pre plce h  unerne  ur vlue   brebr',\n",
              " 'nnunceen b he ker cun bu he gern ker blg   he vner f he ker',\n",
              " 'hng vc  fle wch  gun eure ll nce gn   he new rk e',\n",
              " 'ge revel crhe chprell r lner',\n",
              " 'grr cln hre  n quen n cncern bu be ev  wh enr',\n",
              " 'cber     l cnrrn re',\n",
              " 'rup  nugurl bll   nw he wrk begn     we re n plng ge    brebr',\n",
              " 'rup  chce f ephen bnnn  n  n whngn be   he new rk e',\n",
              " 'e urge ver whe hue  exclun   fke new   brebr',\n",
              " 'benn rr  unenble enl f he ehnc clenng f plene',\n",
              " 'b  hllr clnn prn cul hel ve nn',\n",
              " 'excepnl hnlng',\n",
              " 'n cncepul pr l preenc e ru',\n",
              " 'repne f phlppne preen  fl bl re fer   he new rk e',\n",
              " 'v je n egnng  ueu h pek  fferen lnguge   he new rk e',\n",
              " 'bullen  here re rgheu jew fr rup   rule r run fr gp eblhen  ec     e  ',\n",
              " 'brn reuce errr level ne nch   evere  fer errr cell rre',\n",
              " 'ue n lne  he w never hr f kn wr r fren   he new rk e',\n",
              " 'rnn lr cner cl rgue nn enng ele fgher   nflre he u n eurpe',\n",
              " 'n ccun fr u',\n",
              " 'wch  ul uen cl h nn belever wll be klle n lc cunre   brebr',\n",
              " 'een n e nher  fle flg   prec u n u nere n he le e   new eern ulk',\n",
              " 'wch  ul  plenn  eclre  we fllw ur prphe uh  we wll kll ll chrn n jew ',\n",
              " 'ree g f kerl cll upn uperg krp  recue he fr hun',\n",
              " 'rel rcke  n gvernen  jurnl n fcebk',\n",
              " 'new lk lw kng fr ep gn cn cre',\n",
              " 'ke blr fbll execuve erk buler fre n exng cnl   brebr',\n",
              " 'clgr rpr rrvl c',\n",
              " 'gerge chel wrele wh fe  frnk nr h e vce    he new rk e',\n",
              " 'hrn l  luree f exul  crunze he b n  e    he new rk e',\n",
              " 'blue cllr elecn hck lberl e',\n",
              " ' he wll hve  e nw    he new rk e',\n",
              " 'plce fre rubber bulle  ppelne preer',\n",
              " 'nn culer h uppe  g cn  kh grffn n  crbbe nc',\n",
              " 'cnne f fr chn nw enerng he u   uner he  rgnc  lbel',\n",
              " 'en fu peple n wh  re h uer   he new rk e',\n",
              " 'hllr clnn knew   er g nhn wener w  pephle   wklek',\n",
              " '      lln rw  nwhere n he fr we e   he new rk e',\n",
              " 'cber wr   fr rfle  crphe       nfrn',\n",
              " 'preen pun k u  p prvkng ru',\n",
              " 'nqure clu e bl  b  ce ff  rng nger befre     rce   he new rk e',\n",
              " 'u rne rke n fghnn kll  wun everl cvln',\n",
              " 'bbb huchern  vbrphn wh clrc rnge f un  e       he new rk e',\n",
              " 'ne vce bc genc eeng when pr ercn vce re nve   brebr',\n",
              " 'prjec ver    rber creer  llegl         fregn wre rnfer cugh n pe',\n",
              " 'ex flu chelle b  rup wn  fee  crp   ur k',\n",
              " 'uh un le cler  wr  gunfre ruble n  cpl   he new rk e',\n",
              " ' nnl   fcu grup reflec ngr  ve erc',\n",
              " 'bnkrup puer rc vng n u   eh   brebr',\n",
              " 'verwhele b  brex   here re he bc   he new rk e',\n",
              " 'ele  g r ccue f exull leng een n he        brebr',\n",
              " 'gener flu n he runw   he new rk e',\n",
              " 'u n  ck pun lr rll n ru   wrl wr   re ler kp',\n",
              " 'new clnn el ce fr unerge ex pe nhn wener',\n",
              " 'n  nn ber ck  len n hpe  urvvl n fr    he new rk e',\n",
              " ' wh  be bu erc    he new rk e',\n",
              " 'he pecn ep ff he pe ple   he new rk e',\n",
              " 'when brck b plgrze  n  ell e wr n  er    brebr',\n",
              " 'lwer bck che  be cve n w  u  new guelne    he new rk e',\n",
              " ' f  leep fr n hur     peple wll e    he new rk e',\n",
              " ' veep  en    epe      lle nce       he new rk e',\n",
              " 'n  r  z   rup ffer plceb rnprenc   he new rk e',\n",
              " 'cen n gl el wreler ge vlen wh plce   ll   cp che n  engge n el frce b buck rger',\n",
              " 'ne er f wer n rnge cun n ju fur    brebr',\n",
              " 'cr wh enee   fghn frce rge he   f  hpl    he new rk e',\n",
              " '      er l hebrew enn f jerule fun',\n",
              " 'pr ckng  he  urbng pe el e   wrnng  grphc cnen ',\n",
              " 'nl rup  ep rk pung  celng ver h uppr n wng e   he new rk e',\n",
              " 'green pr  rgre flwer chllenge u ene ebe n rln  unecrc',\n",
              " 'ffcer recue rwnng eer fr pl wh quck hnkng',\n",
              " 'plce  upec punch r veern  el h ervce g ue he n he brnx   brebr',\n",
              " 'ke  egn kell receve rue wkenng  rene he  replceble ',\n",
              " 'rn enng ele rgc wrfgher n eurpe n une e n preprn fr ble',\n",
              " 'hllr enre nl rup fr preen ccrng  wklek',\n",
              " 'wwr  rup er    grbge cuen    nellgence chef hul  plgze   rup   brebr',\n",
              " 'e nnn       rc rgn n h enl reurn   ur ngh lve    he new rk e',\n",
              " 'rup pck ck ulvne  uh crln cngren   buge recr   he new rk e',\n",
              " 'nl rup  el prer preene nrnj e l e un',\n",
              " 're  wh  rne generl lre lnch ple he ffh ',\n",
              " 'ru  u   le efene  pe eep rk   ecur f ',\n",
              " 'wh e whngn  pln b  n r rell en ',\n",
              " 'upe b brex  e brh jew lk  gern   he new rk e',\n",
              " 'grl k her    bfren  ech gve her n phne  ue he ne  bu  hue',\n",
              " 'ne nernnl l b gv fr kllng     cvln n r',\n",
              " 'fnng h flck   rurl wrer  bk club   he new rk e',\n",
              " 'venezuel cr ener ngeru phe  ur fe g ln',\n",
              " 'egre uper blc pr v he qu legl cup hllr clnn nfrn pern n elecn     ',\n",
              " 'hw cul u     quen  k lve ne wh ve he her w   he new rk e',\n",
              " 'he bbc k   wh rell hppene wh he clnn n h ',\n",
              " 'rup pck h ber  p cunererrr ver   he new rk e',\n",
              " 'cng unglue',\n",
              " 'rup jr  upcul help rzn wn puh lle cr  ue    ph p  ve ',\n",
              " 'uce b chcg plce ffcer krcke',\n",
              " ' u hnk uv re fe  hckng ve',\n",
              " '   peple rure  klle  uf ul hrne n pkn',\n",
              " 'cen n rchecure  re hn  clever rrngeen f brck  h n rnfr  n  helng prce b rchecure  re hn  clever rrngeen f brck  h n rnfr  n  helng prce   new erh e',\n",
              " 'hbr wr    rege gn frc   nrucn',\n",
              " 'juln nge  pek prerecre r nervew          ',\n",
              " 'wch  rel lvng hllw cr ju ue jr ple  erc n   nue h ll rck he elecn',\n",
              " 'n   n l    nl rup bche h  nepenence   en   he new rk e',\n",
              " 'excluve  cngrewn rh blckburn    elne ne neurl  preerve n pen nerne    brebr',\n",
              " 'hw  ch  er run greenhue  ur wn he',\n",
              " 'herff clrke n b  fnl    b  lke  enn wh  been evce fr  prper  n he  gnn rh he plce n he w u he r   ve ',\n",
              " '   wer bn n wen n rn',\n",
              " 'he en ge cle n n he clnn  he eep e urn',\n",
              " 'e rup hve  fghng chnce gn he eblhen   new eern ulk',\n",
              " 'n re nce wr chn  clnn n rup bh gnl  chll   he new rk e',\n",
              " 'revew   he ecre lfe f pe  ue  bu e pprune   he new rk e',\n",
              " 'fr ce f enen rele hv fer n h unprece ex wh n  chne',\n",
              " '  hng u nee  knw bu he k cce ppelne pre',\n",
              " 'kch brher ble  preven rk ne clure n uh k',\n",
              " 'l berkele even evcue  ke preer lgh fre  r venue   brebr',\n",
              " ' uhrrn   hw he we enze rng  ppulr leer',\n",
              " 'weh jurn  ween wll cllpe whu llegl grn',\n",
              " ' ur prng nerne creer ver nw vne  e  wre fr newbcu  cheer urelf up',\n",
              " 'n w  rup ver re unfze b cnrvere   he new rk e',\n",
              " 'rcl ercn grwn rx errr grup ju e nnunceen fr jnur   h   cnervve l p',\n",
              " 'gurn pnn wrer  rup  bnnn cunng n errr  cre ',\n",
              " 'pun  pr rup nlne rll ju plle he ben  nh bee',\n",
              " 'lng ul  frn lne  epere cvln n ug n rp n fgher   he new rk e',\n",
              " ' ecn venue ubw pen   rn el en n  hpp  er   he new rk e',\n",
              " '   er l cher n ee hrugh p n npple pe  bllbr wr',\n",
              " 'repr  ppng nl nne percen f llegl len brer crer wul p fr rup  brer wll   brebr',\n",
              " 'ce unn ue fnl wrnng  ver',\n",
              " 'hw n ele new rk plce un rehere fr  errr ck   he new rk e',\n",
              " 'rup  hllw r vnl u helf n hele new ve  un plce eekng h u',\n",
              " 'clfrn    vew f n frncc  lenng wer fr pce   he new rk e',\n",
              " 'hew  rup  peech wh pun h been ng   erc fr  h  hlern bckgrun    brebr',\n",
              " 'vlr pun  he vl nernnl cun club    hpng he wrl f rrw   b vlr pun',\n",
              " 'chnee cl e rge ver une rlne cnrver   brebr',\n",
              " 'erc  beer whu brer',\n",
              " 're hn  ch   errr e ke venezuel rec hre  u  frer un ecur cuncl preen    brebr',\n",
              " 'rck r cuenr ve uble   fr checker   he new rk e',\n",
              " 'l h been pllng n he pcfc cen nce l nh n  beng ll gnre',\n",
              " 'pe  ll   we re gng  hve  up ll he el ',\n",
              " 'he wh hughlel beleve  cnprc here  nee  re h',\n",
              " 'r  v uke n r  ler expe hllr  ren n wh rup   uke wll wn ',\n",
              " 'run frge ff rn c bl errr hq wh crue le  ve ',\n",
              " 'hllr clnn lke cver cn f  e cver  rncrp hw   he new rk e',\n",
              " 'u  kurh rp wll be nvlve n nvng  cpl f rqq',\n",
              " 'wkene hun w full crpe enng  cnrverl elecn  ner',\n",
              " 'gerge r bcke cle rch brng celeb  nnl ll n welerng ur   brebr',\n",
              " 'ewr nwen  lng  rnge jurne  hllw   he new rk e',\n",
              " 'he  blck fr rup  n nce belnge   ureru cul',\n",
              " 'bll clnn  lver  he clle ruhle hllr  he wren ',\n",
              " 'ru  cn e rb u n l egen el llr   rel nl rr guez',\n",
              " 'n  hr nh  n  ch hrge begn  be   he new rk e',\n",
              " 'here  nl ne rup nrn pn h  gnng ppulr n   gng  hck u   brebr',\n",
              " 'bll clnn  whe le cl lfe expecnc eclne urng b er',\n",
              " 'furu erc hler ju ue  re wrnng bu ce  prn er',\n",
              " 'e  rup   cn h   ',\n",
              " 'ch n epern  hun flee lepp  gvernen vnce   he new rk e',\n",
              " 'wlfre epe fr curr n lber  l n regn   he new rk e',\n",
              " 'chuer  en hul be nvege   he  ee  be vlng  h recul   brebr',\n",
              " ' vn   rch n whngn eek  brng wen geher   he new rk e',\n",
              " 'ze ln  rup wn becue hllw  g cck  bece rrgn bulle ',\n",
              " ' n eblhen  rup pln  ppn gln ch n gerge r ner',\n",
              " ' chleerl rug hve en b her gn ',\n",
              " 'rup  flnn ree  ver unfr  b  fke e   llegl lek   brebr',\n",
              " 'clfrn   n vrul rel  nvegng he rvn rn ce   he new rk e',\n",
              " 'nerl   ece ler  n plg fr  lnchng n gerg   he new rk e',\n",
              " 'rc clrk fnll h  en  vr  he e   he new rk e',\n",
              " 'n  brex  peech  here  ulne clen brek fr u k    he new rk e',\n",
              " ' n wh he blck en fun  vc wh cre fr her   he new rk e',\n",
              " 'chel flnn fle  cle nce fr ru lnke ene   he new rk e',\n",
              " 'feerl juge hrw u cnvce  c  nper  fur lfe enence',\n",
              " 'nl rup  b  hnkgvng  ur weeken brefng   he new rk e',\n",
              " '                                                                      ',\n",
              " 'vne            celebre he lfe n eh f n pp wh hee    clp',\n",
              " 'qu p ce  grffn ge   vve n  urbng  u n  hve  ecn  rell ',\n",
              " '   hng  le g f befre he new er',\n",
              " 'cen n  plce unn p pc f hllr beng rree n fcebk b n',\n",
              " 'kch brher ecrel lle w  gerge r fr hllr clnn',\n",
              " 'rup expn erch fr h ecrer f e   he new rk e',\n",
              " 'echer     r l    cn  w unl rup  elece he  gng  epr ll u ul ',\n",
              " 'c  n chce   p cncern f helh nurnce cuer   he new rk e',\n",
              " 'hq nnunce pln  run fr herff n        brebr',\n",
              " 'llegl grn crng he brer  ve',\n",
              " 'pre fl  ke he hel  celn  pre pr gn lege bu n enugh  e hp lne',\n",
              " 'he bllnre wh  bulng  v f h wn   he new rk e',\n",
              " 'runnng n nger n n lkn rl   he new rk e',\n",
              " 've l pel cul e u v  ecubre que h llev epre un rz e lechug enre l ene',\n",
              " 'e wn cngrenl bebll ge  gve rph  republcn eve cle   brebr',\n",
              " 'frnce       preen  rc gun cnrl  pper ger   brebr',\n",
              " 'chn  ru  he lk r  ce  nxn n  ve bull rke n gl   lver',\n",
              " 'ruble qurerbck jhnn nzel  pper  hppng ll  gn ugrph urng nex uper bwl   brebr',\n",
              " 'bb ln ccue f lfng pr f nbel prze peech fr prkne',\n",
              " 'fer blp crh n e  cl cnnn  nkeben u   pen wnee  pecr eh   brebr',\n",
              " 'publc eplee n he hw wrl f ercn crnge',\n",
              " 'epn  lz grnern   jufe   hnk kepernck  beng  blckblle  f nb gn h   brebr',\n",
              " 'precrpn pnkller eh rppe     n e h leglze rjun',\n",
              " 'we re n  lw grwh wrl  hw  we ge here    he new rk e',\n",
              " 'nbul  nl rup  benjn nenhu  ur rnng brefng   he new rk e',\n",
              " 'hler r hllr ',\n",
              " 'ln wn  hllw even  elf  prucn   he new rk e',\n",
              " 'cen n     p wer cler           b ',\n",
              " 'brekwn f he clnn ne chne',\n",
              " 'clfrn   frefrn f cle fgh  wn  bck wn  rup   he new rk e',\n",
              " 'g e   he     er l fwre r up   he new rk e',\n",
              " '       fr hllr clnn   hln   h wul be enugh   he new rk e',\n",
              " 'brn cncun n chlren n ul  wh  knw bu vccne ge',\n",
              " 'rup he gre   pul crg rber',\n",
              " 'hllr frnc  r ecre ple  ge wre wh prn bbhell',\n",
              " 'renng  cr  knw he rule f he r   he new rk e',\n",
              " 'll pechen re plcl  bu w brzl  ehng re ner    he new rk e',\n",
              " 'rup  n nervew  ere vew bu efe cnvenn   he new rk e',\n",
              " 'revew   weeber     brgh lgh  bg c  fr he reurn e   he new rk e',\n",
              " 'gnzg be uh crln n fnl fur fr h  nher fr   he new rk e',\n",
              " 'grk  rup   n n nervenn cner n chef    nhng h chnge    brebr',\n",
              " 're  hnk u fb  he clnn el nvegn h hfe he pll nuber gnfcnl n rup  fvr',\n",
              " 'rce  n cl  ce republcn fuure',\n",
              " 'gruch  cl   ln f he lw    juge hul lk  wh lw en  n wh he prefer   brebr',\n",
              " 'nc e prve uen wh p elecn cfr f  herp',\n",
              " 'rq rp puh furher n ul      klle cr rq',\n",
              " 'pregnn wen urn  rjun  perhp hrng nfn   he new rk e',\n",
              " 'bgge wnner n ler f he      u   preenl elecn',\n",
              " ' rup pchc  len  h wr ne er g  lk  wh ju hppene ',\n",
              " 'ccn  rup  ck n pre re  hw cr ge re    brebr',\n",
              " 'jugen   he ne ren wh ever chrn n jew n erc hul ve fr nl rup',\n",
              " 'he nl cup   len elecn',\n",
              " '                                                                                    ',\n",
              " '  hng u nee  knw bu he blcke u k cce ppelne pre',\n",
              " 'gern  rq lu eeker cnvce f rpng chnee uen',\n",
              " 'eenge b knck u h cle fr ulng her fele echer n he fce  n   epc ',\n",
              " 'wh e  ke  brng hllr clnn  juce ',\n",
              " 'ce run up    crnl len n ex cpl',\n",
              " 'he elecn  f he  gref  n  new r',\n",
              " 'hllr h  quen bu chelle b  cn u help her u ',\n",
              " 'keh vz  brh lwker  qu enr p  ex n rug cnl   he new rk e',\n",
              " 'cen n un evnl  he whle unvere    grn b un evnl  he whle unvere    grn   fellwhp f he n   knenjne',\n",
              " 'nl rup  r  eperr kh  ur rnng brefng   he new rk e',\n",
              " 'hell h frzen ver  chelle b ju e  hllr erng ve n wer',\n",
              " 'flnn  crc cll nucler cen  u  ub  fer he e fen n cll helh cre   prvlege    brebr',\n",
              " 'hphre cllege uen ccue f ulng bkebll pler fr werng hr br  cl  culurl pprprn    brebr',\n",
              " 'he beer  xc legc  he rule f lwlene',\n",
              " 'fr ne nuel  gl rpple ben he pl   he new rk e',\n",
              " 'hw vng chne re prgre n rer  el elecn',\n",
              " 'rerwng he ree f lfe  cen cver new bcer grup  unnng crbl ver unergrun',\n",
              " 'rup n pun   we wll er  nce n fr ll  ',\n",
              " 'ph  ge cer cche glpe f pble   nlere buck',\n",
              " 'urke  reln wh eurpe nk  qurrel wh neherln   he new rk e',\n",
              " 'wklek cuen revel une nn nere n uf  ve ',\n",
              " 'blue e blue  he elbere plczn f nc',\n",
              " 'clre hllngwrh  reprer wh brke new f wrl wr   e        he new rk e',\n",
              " 'nrh  plce ffcer h n ng pen wh u   he new rk e',\n",
              " 'he ph  l crhp  erc  hw gvernen n  len cup',\n",
              " 'effr  curb plce bue hve xe recr  n uncern fuure   he new rk e',\n",
              " ' h ju gnl  jr b n gl   lver ',\n",
              " 'he h    l  engln ebrce punk rck    er ler   he new rk e',\n",
              " 'cne reek f gence  hef n whe prvlege   cnn prfer',\n",
              " 'llegl grn vce plege  re eprn uner rup',\n",
              " 'cc cen cnfr nl rup  rgh bu vccne n u',\n",
              " 'brebr new l  rnng he wp   brebr',\n",
              " 'rup  he e  frnkenen ner',\n",
              " 'wch  n r  gbe  ll cwb n ngr ve   brebr',\n",
              " 'glbl   fr rgh cnprc her bue b rup   he new rk e',\n",
              " 'gerg fher  cnvce f urer n ler  eh n h cr   he new rk e',\n",
              " 'rchr blle e     wre  wh clr  ur prchue     he new rk e',\n",
              " 'rnhn  eve bnnn nle  n he e  fgh gn rup   brebr',\n",
              " 'ex elecr expec ve crrupn rele  he elecrl cllege ve',\n",
              " 'n gul  he pwer f nullfcn  cunerc gvernen rnn',\n",
              " 're hn     rlln n new eb n    ',\n",
              " 'r cuncllr  hele peple hul be  elne ',\n",
              " 'revew  n  hllbll eleg    ugh lve nl f he pr wh bck rup   he new rk e',\n",
              " 'crnl n chef ',\n",
              " 'll gvernen le  he ve',\n",
              " 'rup n brex efe glbl  fr nw nw',\n",
              " 'fcng cngre  e pr ffcl  n ll  begn  cnfrn exul bue   he new rk e',\n",
              " 'rbnb en fgh wh new rk c ver fne   he new rk e',\n",
              " 'bg phr  rn hkrel upene fr wer   brebr',\n",
              " 'nex bg ech crrr  beween ele n vncuver  plnner hpe   he new rk e',\n",
              " 'evence h rb re wnnng he rce fr ercn jb   he new rk e',\n",
              " 'eeng frc b r   he new rk e',\n",
              " 'wh hppen when hp hp hllr ge fr e brke  brce urelve ',\n",
              " 'bll her n  hgh n rup  he e f free peech n  new er   he new rk e',\n",
              " 'he l p g   ur n nl rup    cplce   he new rk e',\n",
              " 'legen r chn n  rup preenc  he new wrl rer  gl  brex  he gre epren n wh we wll ee pnc',\n",
              " 'fl herff   n   ge b h we ll n  rre  l f llegl len  wh re  preng  n peple   brebr',\n",
              " 'nl rup hreen  cncel berkele feerl fun fer r hu wn l even',\n",
              " '                                              ',\n",
              " 'bll herz  l f  wr f he wrl  brc crew  e       he new rk e',\n",
              " 'gr jhnn eque r eh cue b  n we   he new rk e',\n",
              " 'republcn enr bll  efun un ver n rel relun',\n",
              " 're evnk   pneer n wen  hrlng  e       he new rk e',\n",
              " 'blckne  u rb nnunce     blln nveen n u   nfrrucure   brebr',\n",
              " 'ure f n her ee   he gree c n he hr f ecne ',\n",
              " 'e en erkle  gruch nnn   cur pckng chee    he hul hve urne wn nnn   brebr',\n",
              " 'fur cn ke when burnng w',\n",
              " 'puh fr nerne prvc rule ve  ehue   he new rk e',\n",
              " 'nn gve  urpre pp up cncer  uppr clnn  we were here    he new rk e',\n",
              " 'rup upprer pln n rup rll ver lck f x refr',\n",
              " 'brh helhcre ffer  glpe n he fuure f bcre',\n",
              " 'rup  rnn preen ruhn   beer be creful    brebr',\n",
              " 'brekng  ec f efene crer epng  fl he ercn publc bu veern  cugh re hne ',\n",
              " 'pun  ver ke cre fr rup vcr   be we helpe  b wh wklek ',\n",
              " 'wrren buffe ke ugge pple  ll grwn up   he new rk e',\n",
              " 're  he fb  clnn el nvegn h hfe pll nuber gnfcnl n rup  fvr',\n",
              " 'hllr hrrfe    pc urfce verngh h he n  wn u',\n",
              " 'pul lepge  he gvernr f ne  nw  he  n qung   he new rk e',\n",
              " 'clr r n  pul rn nervew ve hge n elecn fru n nng rck',\n",
              " 'bll clnn wn  be clle ehng cpleel rculu f hllr  elece',\n",
              " 'fer her n  eh  ll nn ge  hunng hw   he new rk e',\n",
              " 'rup e  lnk  ru crcr n whngn   he new rk e',\n",
              " 'nrh kren  rree n kllng f k jng un  hlf brher   he new rk e',\n",
              " 'urgen  h grph  ue n hrful  wen',\n",
              " 'wr n he ree f pr  re grn fgh runnng ble n he french cpl',\n",
              " 'cr ver  erl reep nl nne fr n rup peech',\n",
              " 'ex enc  n hr  lw',\n",
              " 'chcg plce br chr  wn c nee feerl help  urn e n cre   brebr',\n",
              " 'lkng ben nveber  h    ng f lgrch n ',\n",
              " 'nel ung celebre h    brh b perfrng  nng rck',\n",
              " 'excluve    pul rn  bcre     puh  pp  chr cnel prep fr penl      ene run   brebr',\n",
              " 'b  hr l f peple re nprng hn chelle b',\n",
              " ' re r re gng  bc   he gr fce fllu fer frugh wr   he new rk e',\n",
              " 've   er rup  hllw r  ge b new ecn ler',\n",
              " ' he wn becue he ele wn h here  he glbl ecn wll cllpe ',\n",
              " '  be helh benef f weng',\n",
              " 'ene cnfr c pru  e p   he   he new rk e',\n",
              " 'crcke  nke  crb   x f fc n fru n new rk  ubw   he new rk e',\n",
              " 'en  penl epu fce  ern e n ru nqure   he new rk e',\n",
              " ' uce qu  p bx ffce fr ecn weeken   he new rk e',\n",
              " 'helh nurer pln re hke fr bcre exchnge   brebr',\n",
              " 're  lk lke ene hnk he ecr n h re full f nure',\n",
              " 'rn wr repr   nveber           gv frce  relunch ffenve pern ne n ue lepp',\n",
              " 'er lve   h  wh ge hllr clnn  ge vn    wch c',\n",
              " 'ene nrrwl pe rllbck f b er  u  r    rule   he new rk e',\n",
              " 'n crpe n cl b re  cre  bul  bb  bul   he new rk e',\n",
              " 'chpnng p  b hl clnn  h plcl her   he new rk e',\n",
              " 'fn pple relee  rup pre chn   he new rk e',\n",
              " 'un rce  u   u negre lgb rgh n gv  n fregn plc',\n",
              " 'rup rgnzn ve  v pble cnflc f nere   he new rk e',\n",
              " 'ween n he brnk  plce frce puhe  brekng pn b vlence  grn nflux',\n",
              " 'cen n hep v cn  he ule hwwn b hep  rereng cnnb   kuebk c',\n",
              " 'jre kuhner  rup  n n lw   clere  erve  ver   he new rk e',\n",
              " 'fhern fce lfe n prn fr cchng          wrh f ccne n ellng    brebr',\n",
              " 'eppng u f he rng whle rllng wh he punche   he new rk e',\n",
              " 'nn e  f  erl  pc  ge  rerl n urer ce   he new rk e',\n",
              " 'cen  wer gnl fr pce re  prbbl  len',\n",
              " 'u   wer  pue rbber cl fuel enn n brzl   he new rk e',\n",
              " '  w  ke  elf cre vcn   he new rk e',\n",
              " '    ecn gn leer urgng erc n  ve fr nl rup',\n",
              " 'cpgn re lng  expenve n chc  be h   g hng    he new rk e',\n",
              " ' len egrucure  r rgee b      lln e erch',\n",
              " 'brzen kllng f nr lwer ce fer he prre wh lr   he new rk e',\n",
              " 'jne pule  bck   gn   he new rk e',\n",
              " 'euche bnk cnerng lernve  png ch bnu',\n",
              " 'll f  nn er  fbll ful up  v n    ecn',\n",
              " 'lck f xfr c cul c ne cpn lln n vere pue   he new rk e',\n",
              " 'eurpen prlen cee cnerng legl rgh fr rb   brebr',\n",
              " 'rex llern  n ggreve elker whe e wh ru  prp crun   he new rk e',\n",
              " 'n ver  fb  cnuc new nvegn f el fr clnn  prve llegl erver',\n",
              " 'her   ne  he u epre  culure nur',\n",
              " 'repr  egn rhe rup  new  hen urch nnunce replceen re vlble',\n",
              " 'run cen wll rck e ln fr pce',\n",
              " 'b ezng he efnn f  ppul   reuer wrn u f ch  ce',\n",
              " 'ewrh n re fr n erl unvelng   he new rk e',\n",
              " 'nl rup  k   cfrln  h nnl ecur e   he new rk e',\n",
              " 'nwr brng wnr x f luh n grpe   he new rk e',\n",
              " 'republcn  wler  llern  ur hur evenng brefng   he new rk e',\n",
              " 'revew  brn crnn hne  lnn jhnn n  ll he w    he new rk e',\n",
              " 'ung urge cnuer  p ung glx ne   fer ber fre   he new rk e',\n",
              " 'elecn reul cun fr he      preenl elecn  pen hre ',\n",
              " 'g lnch l fb recr ce n  g publc wh he new clnn el nvegn',\n",
              " ' nl rup n he re f whe en n plc ',\n",
              " 're  blue n ve  x vew f erc   he new rk e',\n",
              " 'frnce enfe  n n wh cke church n klle pre   he new rk e',\n",
              " 'reer rree n nnwe gng crckwn',\n",
              " 'xne wer  ercn publc  geng wer  h rup n peche e   brebr',\n",
              " 'wwn  hrcpe',\n",
              " 'epre ln ber cugh nekng cr u   exc brer',\n",
              " 'leke u  hllr clnn puhe  rggng  plene elecn n     ',\n",
              " 'hw he rnn u prx ruggle re pr he le e   he new rk e',\n",
              " 'lvrv n kerr cu rn eleen',\n",
              " 'l nfluence e u e e l n n le rppr e l ue vec l chne  nl nucc',\n",
              " 'pen brer grup gr fr h  b fgh',\n",
              " 'wll wenerge expe rker n rer ecre hn we gne ',\n",
              " 'rup  elecn brek chn f plcl crrecne',\n",
              " 'whehue gv ke wn cle pge  pu up  erc fr  energ pln   brebr',\n",
              " 'rn wrn preen elec rup n  e wh her weeher nucler el fr b',\n",
              " 'n perkn  rup e re ffr jeffern  crne f eprn f church n e',\n",
              " 'he n h fell fr heven',\n",
              " '   r lunch cpgn fr plnne prenh',\n",
              " '  len fr lepp  frce wrk  wh few cnequence   he new rk e',\n",
              " 'pence  ber n bnnn weren  ee  bh wll  cnnue  pl prn plc rle    brebr',\n",
              " 'bun rnch ccuper cque n ll cun fer chllengng he crrup bureu f ln ngeen',\n",
              " 'repr  ggle fce fne f up     blln n eu nru ce   brebr',\n",
              " 'n  k h rke  wre  cver que fr ur bk',\n",
              " 'nerne flher',\n",
              " 'grechen crln u   reln ver crnn   he new rk e',\n",
              " 'ggle lunche  prgr  eec  he peech    brebr',\n",
              " 'wh pll hwng hllr n he le re uele n leng  crn ',\n",
              " 'wh l ecn lne erger re g fr rffc   he new rk e',\n",
              " 'n cu  kppng he cn  bu ebrcng he p   he new rk e',\n",
              " 'n nrel  n ungnl n unlve chr ree   he new rk e',\n",
              " 'ph f juper fr n pcecrf  bh ner n fr   he new rk e',\n",
              " 'rup  lbr pck  nrew puzer   crc f nu wge ncree   he new rk e',\n",
              " 'nc rberg ke frul ne rver  le epe lew hln  wn n bu hb   he new rk e',\n",
              " 'wh  enr ln nk ugh e bu  brn   he new rk e',\n",
              " 'chele hnler bche wee ckng rup  grnchl',\n",
              " 'repr  rup ve  wn x refr pln whu peker pul rn   brebr',\n",
              " 'g jeff en unvel prgr  ccelere eprn f prne llegl   brebr',\n",
              " 'frer u rne fr c  new hllr el prbe w reul f  revl  ne fb',\n",
              " 'hw keepng up ppernce rune  frer ll bnker   he new rk e',\n",
              " 'ee ee fr knee erhr',\n",
              " 'hw whe cp nerc wh blck n rel lfe',\n",
              " 'pennlvn republcn puhng bn n prve gun le   brebr',\n",
              " 'revew  n  wrcrf   rc f  fferen n  fghng wh her   he new rk e',\n",
              " 'when g peple hre b nf   here  wh u nee  fc check befre u clck hre',\n",
              " 'fr he wh hve  ll  chrble weng regre   he new rk e',\n",
              " 'h    np ju re hllr  prper  wh he fun wll run her lfe   u newflh',\n",
              " 'fenen  gruch   rgnl  crne  rell rublng    rgnl wul hve llwe egregn   brebr',\n",
              " 'cnfrnn flre  b  rvelng pr reche chn   he new rk e',\n",
              " '  ren wh u hul ppl fr  jb n he rup nrn',\n",
              " 'n u hugh he lver rke w rgge ',\n",
              " 'cn u her gne rn  eren n jhn zrn  frenze uc    he new rk e',\n",
              " 'u ee   welce  he fl   wh  n hpnc ercn re vng fr nl rup',\n",
              " 'rq frce ener weern ul  n ferce ble gn    he new rk e',\n",
              " 'eurpen hve n fuure   pun n grn cr  ve ',\n",
              " 'n rllng ne efn ce  gzne n reprer rere  p    lln   he new rk e',\n",
              " 'hllr  ck   re f ufferng fr wener bckup',\n",
              " 'wn  l  je ckngh  ur fr evenng brefng   he new rk e',\n",
              " 'he l    cle  l fr  whch urke h wrne  ff l',\n",
              " 'brher f clnn  cpgn chr  n cve fregn gen n he u rbn prll',\n",
              " ' we u fgh he   rup ge fer cnervve f free cucu   he new rk e',\n",
              " ' knp  kll  le    cvln n fghnn',\n",
              " 'hlng hllr ccunble',\n",
              " 'brekng   e cruz cll fr pecl precur  nvege hllr   ruhfee',\n",
              " 'pre b gunn n chrlen  churchger ecrbe ngh f errr   he new rk e',\n",
              " 'wr n ure f h hre peple n pr cunre wh hunne rnl f lke ccnu l',\n",
              " 'ecr  wh grln n n  blze fr upree cur fgh   he new rk e',\n",
              " 'cen n   f he be kn f lk h ren  r b   f he be kn f lk h ren  r   cllecve evlun   pg erl',\n",
              " 'hrr re bl ce fr cnuc  rp bbhell  fb  ng n run rup nf',\n",
              " 'nnl revew  cnerv nc   pln  cve even re n grn ',\n",
              " ' wch  hug cll u rne   pu    brel lve  ell he le',\n",
              " 'wll he nex u preen be  pch lebn   plu   brekng new ve ',\n",
              " 'crc ee effr b cune n wn  purge nr ver fr rll   he new rk e',\n",
              " 'ur evenng brefng  hllr clnn  nl rup  culurl revlun   he new rk e',\n",
              " 'nn pren le her bb n   er f her lve n jl fr  bue  he  never hppene',\n",
              " 'he rllng ne pn  blue n her new lbu   he new rk e',\n",
              " 'uber exen n lve brnch  lcl gvernen      he new rk e',\n",
              " 'wler  pu uch fr  n  bruel  frc n lu eeker ',\n",
              " 'nl rup  g eucn  enrche bh he n n he ul ',\n",
              " 'wch  br p pl fghnn wr generl n  wr chne  eer   brebr',\n",
              " 'w pwerful erhquke rke cenrl l',\n",
              " 'nr grenng e e  he nurwer ',\n",
              " 'elzbeh wrren efne lez hpcr',\n",
              " 'ruh lbugh   rell eprure w n  nurl     w   cpgn    brebr',\n",
              " 'ueu ruee   rup nr  uppr grup h en cle chnge   he new rk e',\n",
              " 'cecle rchr cre plnne prenh upprer wh ppng hc   brebr',\n",
              " 'when he wch he chp n u wn  knw wh u re nre',\n",
              " 'u   cncee      lln pen  rn w ele  prner  leverge    he new rk e',\n",
              " 'url   fle  errr pl   he new rk e',\n",
              " 'rvlle   e n feerl gvernen hre ble',\n",
              " 'he l rnl  jeff chep n he n',\n",
              " 'chel re  je blw wll ve rup   ule f   u  he ele   hun lv cckl ',\n",
              " 'jgur wner hh khn ppe rup  grn bn   he new rk e',\n",
              " 'h n rup ver n he e f  bu  rell vull clever n u hve  ee  n n',\n",
              " ' pn n f n fce  n e rnger re   he new rk e',\n",
              " '        re cke  be relee fr  hrr per n he cure chl    he new rk e',\n",
              " 'fb v n  h he fer he fl u pl rbun cener',\n",
              " 'hpnc crw b rc rub ff ge',\n",
              " 'fre v reprer   ve receve hun f  exul n vlen  hre',\n",
              " 'ene llegl len en    hunger rke',\n",
              " 'brekng lence  ffcer efe bu kllng f wler c   he new rk e',\n",
              " 'llegl grn llegel kll fr prkng p',\n",
              " 'preen rup hnr lle er f he pr n fr whe hue n l  f prer n er   brebr',\n",
              " 'hllr clnn upprer nw cllng fr  recun f ve n blegrun e',\n",
              " 'hb crp jn ewr ne ce ere',\n",
              " 'enencng fr urerer f rre bk eler',\n",
              " 'he le ck rke n nveng bk   fnncl rke',\n",
              " 'fhn nur ce  upprng plnne prenh    cvc repnbl ',\n",
              " 'n rup pre re p n ge  crgl revel',\n",
              " 'en   exerce pung  per n ur ex lfe    he new rk e',\n",
              " 'bkng    ccnu l cn kll cncer  ee penng evence',\n",
              " 'rup  cng n evence  ugge un rce ce cre   he new rk e',\n",
              " 'brebr new l  gruch fr cu   brebr',\n",
              " 'hllr  be rree ',\n",
              " 'r cn pen r lck n le neghbr wlk n ur hue',\n",
              " 'nl rup  chel phelp  zk  ur ue evenng brefng   he new rk e',\n",
              " 'b furu fer fe up  eplrble  rp        pece gf n h',\n",
              " 'l   rk    er nce rne kng r   brebr',\n",
              " 'he e fc u l qe llnce      nfrn',\n",
              " 'cr bker    pul revere en   unerw    he run re cng    brebr',\n",
              " 'rpper r ve  h n brkln   he new rk e',\n",
              " 'ele juge w gnrn bu jh cnvcn prr  png refugee refr bn   brebr',\n",
              " 'ex uen kp chl  pre rre f vlen crnl',\n",
              " 'rup e r  reure eurpe  bu n re wr   he new rk e',\n",
              " 'wll chn rgger he nex glbl recen ',\n",
              " 'bbng kll re hn     n bgh   he new rk e',\n",
              " 'cen n blck rc b rn wrgh',\n",
              " 'hnk u fb  he clnn el nvegn h hfe he pll nuber gnfcnl n rup  fvr',\n",
              " 'u   recue ep n fghnn e weern hge b hur   he new rk e',\n",
              " 'rck rule    lk       n wh pr e ngeen  ng wh ur clen  ne rgh nw',\n",
              " 'fr wner rree fr preng k cce ppelne  hef f her ln',\n",
              " 'rup pe  lf bn n c     blck e  prn   he new rk e',\n",
              " 'el  uk nvege ver lrc b cngre',\n",
              " '  rculul up hng en keep ng fr wen',\n",
              " 'pre v  uff n un cnenn f  ere errr ',\n",
              " 'he nee n curge f he weern wrl',\n",
              " 'rup buge    new funn fr ercn grene    brebr',\n",
              " 'excluve   lc e upprer vw errr grup wll reke ul   lberr ',\n",
              " 'rllng huner rccl reurn   c   hnr pw    brebr',\n",
              " 'nereng   fun fc bu ehcpe',\n",
              " ' chn eek bgger rle n wrl ge  x jnpng wll g  v wrl ecnc fru   he new rk e',\n",
              " 'veern prepre  jn nng rck preer  p k cce ppelne',\n",
              " 'ph  ln erc cnen venezuel   exceve ue f frce  gn pre   brebr',\n",
              " 'ugr en  ju fee cncer cell   even cree he',\n",
              " 'jhn kerr urge grunng f lr rcrf n  ke re  f r   he new rk e',\n",
              " 'ue ne fvr hllr clnn        re ver nl rup   he new rk e',\n",
              " 'fke new  new rk e rge brebr fr reprng ruh   brebr',\n",
              " 'fer bl  new rker exne heelve fr pchlgcl hrpnel   he new rk e',\n",
              " 'rence  chwrzenegger cll fr  grr revlun  fer u   ex pr greeen',\n",
              " 'vrgn ffcl reque u   nqur fer ne eh n jl   he new rk e',\n",
              " 'hw  repr ver fru   crh cure ',\n",
              " 'ce pre reprer  fkng new re fr hllr clnn ',\n",
              " 'revew  grh brk brng rung nhe n bll  nkee u   he new rk e',\n",
              " 'cher rneren  be pnnng gl b fr helpflch',\n",
              " 'ever e cl wll cllpe   u nee  be lkng  ur welh n er f hw n chcken n hw uch g u cn bu ',\n",
              " 'revew   hl n cch fre  e rvel  lcn vlle  wn   he new rk e',\n",
              " 'b ue relgu e  fvr ul ver chrn',\n",
              " 'wngu fler v  ree',\n",
              " 'urke  rpr bber were fr krgzn  ru n uzbekn   he new rk e',\n",
              " 'urerc  re pwerful hn    rfcl rug',\n",
              " 'fcebk cugh ellng rgee vereen whch exclue fferen rce',\n",
              " 'glnburg reen reurn he  wlfre erucn   he new rk e',\n",
              " '   er l grl ue  hun bb n nger ck',\n",
              " 'hck berkele pll  clfrn ver wn ecr  wrk wh rup   brebr',\n",
              " 'fle f errr ck vc ue wer fr  prvng reurce n ervce      brebr',\n",
              " 'phlppne leer vw  prn plce ccue n r  eh   he new rk e',\n",
              " 'f fun npulng he e n fvr f bg phr',\n",
              " 'j h  lehr  he begnnng f he en f ep',\n",
              " 'h   he rrvl    wh n  prcce b ur leer         ',\n",
              " 'g en  e en hrr     n ble  be ruhe h f    ke e nervu    brebr',\n",
              " 'u n  env  u   ll bck plenn e   he new rk e',\n",
              " 'hw rup hppene',\n",
              " 'jpn ve renghen hnz be  gl  chnge cnun   he new rk e',\n",
              " 'ju n  rup cp cugh n c brggng f  ver uppren  gn wen   blck  ve ',\n",
              " 'chele nnng k b  cu enence  e erve   he new rk e',\n",
              " 're x brcer jerr re hnk fregn pler huln  ue rnlr',\n",
              " 'h e l jn rq  ul ck',\n",
              " 'ecp regn n uper bwl cercl  bu plc prve necpble   he new rk e',\n",
              " 'nvl bref    nveber   h       b lehu',\n",
              " 'cnlu ve fge fr nnu expe hu n hllr',\n",
              " ' jrrng new level f cnfrnn n cnflc h whngn   he new rk e',\n",
              " 'clnn rne clfe nf  her lwer',\n",
              " 'hllr  run hckng h  be  gue b ercn   gh hve been rup   brebr',\n",
              " 'generl elecn cpgnng upene n wke f ncheer uce bbng',\n",
              " ' grn l   fher n fl  h h fr fle',\n",
              " 'venezuel  ecnc cr  e  en h he lef h fle ',\n",
              " 'her f peng wl br kll hree lc e jh   brebr',\n",
              " 'n fr venu  n fr r  wh we beleve bu gener n wh   fen wrng   he new rk e',\n",
              " 'n b  prn l   hel gne wh wne u      he new rk e',\n",
              " 'upec cpure n  buh le  kllng f w w cp',\n",
              " 'egn  c  kell  gw ruphnl cen n he hllr ce repenng',\n",
              " ' fl frenl plc h  frenle  le prfer   he new rk e',\n",
              " 'rng rr nunc que ej l bele',\n",
              " 'wr le nen fer clnn efe',\n",
              " '  chef preen ru  grwng hre  brh nere',\n",
              " 'hw whngn e upene rup  rvel bn   he new rk e',\n",
              " ' prec n werve  plce chef cugh peeng  ge  lugh bu n cke  ve ',\n",
              " 'fke new n rup h exc  exple',\n",
              " 'wh  gng n wh wklek ',\n",
              " 'frer c recr ble llennl fr wklek cuen   brebr',\n",
              " 'wh wll ell he r f lver    he new rk e',\n",
              " 'lve wre uch elecn  hgh urnu expece  cnrver ver urkh que pllng cenre',\n",
              " 'wh hvng en free  r',\n",
              " 'bbhell  leke el expe hw ul g n b  nrn',\n",
              " 're nve ercn pr f he en l rbe f he jewh peple ',\n",
              " 'bl rpper   bll  llege n hve n urpre fr hllr',\n",
              " 'kevn urn  jn he glen e wrrr   he new rk e',\n",
              " 'nn cll cener bece jr cener fr efrung ercn   brebr',\n",
              " 'cngre  rne generl lnch  ple ffh  n ecre rn  rn  pen',\n",
              " 'l ngele e erl le  ver rup   nrc    eggue    brebr',\n",
              " 'n  wrl f  unruh  n  fleh   cllng  le  le   he new rk e',\n",
              " 'hllr clnn le nl rup n new hphre n flr  pll hw   he new rk e',\n",
              " 'gene wler  hu ben  nl rup  ur n evenng brefng   he new rk e',\n",
              " 'wch  blp crhe  cche fre  u pen   brebr',\n",
              " ' ler   le gun n  cr  n  her e   he new rk e',\n",
              " 'n ercn cr re fghng fr vbl  he wll n be gnre    he new rk e',\n",
              " 'hw  excn feel bu he envrnen ',\n",
              " 'ne nl rup  l n  n nxu nnee eek urnce   he new rk e',\n",
              " 'prk ervce ne    vere nnl lnrk   he new rk e',\n",
              " 'wener rng n whe hue  ll f grce ex cngren hre   brebr',\n",
              " ' f rup le    grbbng  uke   frer cngren re  g full revlun',\n",
              " 'ecng nrh kre  cl f  ucceful nucler e   he new rk e',\n",
              " 'bll belchck n wne l  ef n rn hernnez uble urer ce   brebr',\n",
              " 'l   r len n c  rng vlen cre   brebr',\n",
              " 'here   new brh pre ner  gve br jhnn  ke p   he new rk e',\n",
              " 'nl rup  hllr clnn  phne  ur wene evenng brefng   he new rk e',\n",
              " 'u h klle re hn    lln peple n     vc nn  nce wrl wr ',\n",
              " 'plce ffcer fce bcklh fer wh he   hllr n ph',\n",
              " 'hkepere  ren uhencll brng',\n",
              " 'gerg cne jn ff  fl fr fnnce b fcebk fc check funer',\n",
              " 'n effr  efe   u   n rn pee ne nher   he new rk e',\n",
              " 'rck  pu  bulle n rup  wln  pu upprer ee cle hng   bleng    brebr',\n",
              " 'weern nellgence gence re runnng l qe cp n nrh frc',\n",
              " 'rup ell plnne prenh  funng cn  f brn ge   he new rk e',\n",
              " 'cen n hllr clnn  gun cnrl gen expe n wklek el b brneecllelberl',\n",
              " 'wll brck b el r upen he elecn f hllr  frce u b he new fb el nvegn ',\n",
              " ' nl rup nce feu  her g  p  cne flee h hw   he new rk e',\n",
              " 'gern  uen frce  chn  llhu kbr   punhe fr refung rp  que',\n",
              " 'eer  pce junk  rcke  eru flh h ber',\n",
              " 'rup nnl ecur ver clle run env  befre ncn were pe   he new rk e',\n",
              " 'prjec ver  plce ecrc perve cl cre fr rne     ve',\n",
              " 'l ff ercn  requre  zp lp n w u  grw bler   he new rk e',\n",
              " ...]"
            ]
          },
          "metadata": {
            "tags": []
          },
          "execution_count": 32
        }
      ]
    },
    {
      "cell_type": "markdown",
      "metadata": {
        "id": "X56nYmXWy28o"
      },
      "source": [
        "# Word Embedding\r\n"
      ]
    },
    {
      "cell_type": "code",
      "metadata": {
        "colab": {
          "base_uri": "https://localhost:8080/"
        },
        "id": "7wUof62JuZJK",
        "outputId": "8556b073-9eb1-4506-cf36-fd86a4d83eea"
      },
      "source": [
        "vocab_size=5000\r\n",
        "encoded_doc=[one_hot(word,vocab_size) for word in filtered_sent]  #encoding data into one hot \r\n",
        "encoded_doc[0]\r\n"
      ],
      "execution_count": 35,
      "outputs": [
        {
          "output_type": "execute_result",
          "data": {
            "text/plain": [
              "[4028, 2163, 2163, 4451, 4607, 4276, 3927, 3630, 4928, 267, 1518, 313, 4853]"
            ]
          },
          "metadata": {
            "tags": []
          },
          "execution_count": 35
        }
      ]
    },
    {
      "cell_type": "code",
      "metadata": {
        "colab": {
          "base_uri": "https://localhost:8080/"
        },
        "id": "xH6wSv302nnB",
        "outputId": "c8fc5d8b-d671-4059-8d1a-e8919b4afd10"
      },
      "source": [
        "#padding the data so that lenth of everydocument in corpus will be same\r\n",
        "len_sent=20  #creating each docuumentr with the size of 20\r\n",
        "encoded_pad_doc=pad_sequences(encoded_doc,maxlen=len_sent,padding=\"post\")   \r\n",
        "encoded_pad_doc[5]"
      ],
      "execution_count": 42,
      "outputs": [
        {
          "output_type": "execute_result",
          "data": {
            "text/plain": [
              "array([4476, 4607,  831, 2426, 2573, 4232,   49, 1864, 2379,  858,  857,\n",
              "       4760, 2707,   49, 2936, 2468, 3817, 2720, 1159,    0], dtype=int32)"
            ]
          },
          "metadata": {
            "tags": []
          },
          "execution_count": 42
        }
      ]
    },
    {
      "cell_type": "code",
      "metadata": {
        "colab": {
          "base_uri": "https://localhost:8080/"
        },
        "id": "Wp8WCdn63fwZ",
        "outputId": "8f8d580e-6472-4577-8ee7-ad2942afc8e3"
      },
      "source": [
        "#embedding of the data\r\n",
        "dim=30\r\n",
        "model=Sequential()\r\n",
        "model.add(Embedding(vocab_size,dim,input_length=len_sent))\r\n",
        "model.add(Dropout(0.3))\r\n",
        "model.add(LSTM(100))\r\n",
        "model.add(Dropout(0.3))\r\n",
        "model.add(Dense(1,activation=\"sigmoid\"))\r\n",
        "model.add(Dropout(0.3))\r\n",
        "model.compile(loss=\"binary_crossentropy\",optimizer=\"adam\",metrics=[\"accuracy\"])\r\n",
        "model.summary()"
      ],
      "execution_count": 45,
      "outputs": [
        {
          "output_type": "stream",
          "text": [
            "Model: \"sequential_2\"\n",
            "_________________________________________________________________\n",
            "Layer (type)                 Output Shape              Param #   \n",
            "=================================================================\n",
            "embedding_1 (Embedding)      (None, 20, 30)            150000    \n",
            "_________________________________________________________________\n",
            "dropout_2 (Dropout)          (None, 20, 30)            0         \n",
            "_________________________________________________________________\n",
            "lstm_1 (LSTM)                (None, 100)               52400     \n",
            "_________________________________________________________________\n",
            "dropout_3 (Dropout)          (None, 100)               0         \n",
            "_________________________________________________________________\n",
            "dense (Dense)                (None, 1)                 101       \n",
            "_________________________________________________________________\n",
            "dropout_4 (Dropout)          (None, 1)                 0         \n",
            "=================================================================\n",
            "Total params: 202,501\n",
            "Trainable params: 202,501\n",
            "Non-trainable params: 0\n",
            "_________________________________________________________________\n"
          ],
          "name": "stdout"
        }
      ]
    },
    {
      "cell_type": "code",
      "metadata": {
        "id": "uCyIUVfM5Twu"
      },
      "source": [
        "X_final=np.array(encoded_pad_doc)\r\n",
        "Y_final=np.array(Y)"
      ],
      "execution_count": 47,
      "outputs": []
    },
    {
      "cell_type": "code",
      "metadata": {
        "colab": {
          "base_uri": "https://localhost:8080/"
        },
        "id": "44e-CSYH6FD0",
        "outputId": "b7692b9c-75bf-4e40-b6be-f340f36503cc"
      },
      "source": [
        "print(X_final.shape,Y_final.shape)"
      ],
      "execution_count": 48,
      "outputs": [
        {
          "output_type": "stream",
          "text": [
            "(18285, 20) (18285,)\n"
          ],
          "name": "stdout"
        }
      ]
    },
    {
      "cell_type": "code",
      "metadata": {
        "colab": {
          "base_uri": "https://localhost:8080/"
        },
        "id": "DSiNZMwt6RHe",
        "outputId": "cd5a4278-0037-411b-b8a9-95c217f7edd7"
      },
      "source": [
        "from sklearn.model_selection import train_test_split\r\n",
        "X_train,X_test,Y_train,Y_test=train_test_split(X_final,Y_final,test_size=0.20,random_state=1)\r\n",
        "print(X_train.shape)\r\n",
        "print(Y_train.shape)\r\n",
        "print(X_test.shape)\r\n",
        "print(Y_test.shape)"
      ],
      "execution_count": 49,
      "outputs": [
        {
          "output_type": "stream",
          "text": [
            "(14628, 20)\n",
            "(14628,)\n",
            "(3657, 20)\n",
            "(3657,)\n"
          ],
          "name": "stdout"
        }
      ]
    },
    {
      "cell_type": "code",
      "metadata": {
        "colab": {
          "base_uri": "https://localhost:8080/"
        },
        "id": "o8r8543R7C2Q",
        "outputId": "f5caad6f-c227-41b4-a8a6-1078a80cdf87"
      },
      "source": [
        "#fitting the model\r\n",
        "model.fit(X_train,Y_train,validation_data=(X_test,Y_test),epochs=10,shuffle=True,batch_size=65)"
      ],
      "execution_count": 51,
      "outputs": [
        {
          "output_type": "stream",
          "text": [
            "Epoch 1/10\n",
            "226/226 [==============================] - 7s 30ms/step - loss: 2.1413 - accuracy: 0.8496 - val_loss: 0.3089 - val_accuracy: 0.9089\n",
            "Epoch 2/10\n",
            "226/226 [==============================] - 7s 29ms/step - loss: 2.0687 - accuracy: 0.8547 - val_loss: 0.3120 - val_accuracy: 0.9040\n",
            "Epoch 3/10\n",
            "226/226 [==============================] - 7s 29ms/step - loss: 2.1062 - accuracy: 0.8539 - val_loss: 0.2754 - val_accuracy: 0.9155\n",
            "Epoch 4/10\n",
            "226/226 [==============================] - 7s 30ms/step - loss: 2.0591 - accuracy: 0.8330 - val_loss: 0.3139 - val_accuracy: 0.9109\n",
            "Epoch 5/10\n",
            "226/226 [==============================] - 7s 30ms/step - loss: 2.1394 - accuracy: 0.8138 - val_loss: 0.3232 - val_accuracy: 0.8898\n",
            "Epoch 6/10\n",
            "226/226 [==============================] - 7s 29ms/step - loss: 2.0082 - accuracy: 0.8519 - val_loss: 0.2883 - val_accuracy: 0.9076\n",
            "Epoch 7/10\n",
            "226/226 [==============================] - 6s 29ms/step - loss: 2.0658 - accuracy: 0.8514 - val_loss: 0.2720 - val_accuracy: 0.9119\n",
            "Epoch 8/10\n",
            "226/226 [==============================] - 6s 29ms/step - loss: 2.1536 - accuracy: 0.8482 - val_loss: 0.2932 - val_accuracy: 0.9125\n",
            "Epoch 9/10\n",
            "226/226 [==============================] - 7s 29ms/step - loss: 2.0471 - accuracy: 0.8579 - val_loss: 0.2792 - val_accuracy: 0.9139\n",
            "Epoch 10/10\n",
            "226/226 [==============================] - 7s 29ms/step - loss: 1.9901 - accuracy: 0.8623 - val_loss: 0.3366 - val_accuracy: 0.9016\n"
          ],
          "name": "stdout"
        },
        {
          "output_type": "execute_result",
          "data": {
            "text/plain": [
              "<tensorflow.python.keras.callbacks.History at 0x7f2717c38908>"
            ]
          },
          "metadata": {
            "tags": []
          },
          "execution_count": 51
        }
      ]
    },
    {
      "cell_type": "code",
      "metadata": {
        "colab": {
          "base_uri": "https://localhost:8080/"
        },
        "id": "D_Ts0tXE7mds",
        "outputId": "b5cd5ca4-64ae-4152-b967-192dac356c33"
      },
      "source": [
        "y_predicted=model.predict_classes(X_test)\r\n",
        "y_predicted[0]"
      ],
      "execution_count": 55,
      "outputs": [
        {
          "output_type": "stream",
          "text": [
            "/usr/local/lib/python3.6/dist-packages/tensorflow/python/keras/engine/sequential.py:450: UserWarning: `model.predict_classes()` is deprecated and will be removed after 2021-01-01. Please use instead:* `np.argmax(model.predict(x), axis=-1)`,   if your model does multi-class classification   (e.g. if it uses a `softmax` last-layer activation).* `(model.predict(x) > 0.5).astype(\"int32\")`,   if your model does binary classification   (e.g. if it uses a `sigmoid` last-layer activation).\n",
            "  warnings.warn('`model.predict_classes()` is deprecated and '\n"
          ],
          "name": "stderr"
        },
        {
          "output_type": "execute_result",
          "data": {
            "text/plain": [
              "array([1], dtype=int32)"
            ]
          },
          "metadata": {
            "tags": []
          },
          "execution_count": 55
        }
      ]
    },
    {
      "cell_type": "code",
      "metadata": {
        "colab": {
          "base_uri": "https://localhost:8080/"
        },
        "id": "7-yGb0Rt8nP4",
        "outputId": "e4af52d3-fe6e-4933-90cf-f64474eccb97"
      },
      "source": [
        "from sklearn.metrics import accuracy_score,confusion_matrix\r\n",
        "print(accuracy_score(Y_test,y_predicted))"
      ],
      "execution_count": 57,
      "outputs": [
        {
          "output_type": "stream",
          "text": [
            "0.9015586546349467\n"
          ],
          "name": "stdout"
        }
      ]
    },
    {
      "cell_type": "code",
      "metadata": {
        "colab": {
          "base_uri": "https://localhost:8080/"
        },
        "id": "Hoe3mjJC84ts",
        "outputId": "30aadd0b-a06f-4f72-e338-94e2461cd03d"
      },
      "source": [
        "print(confusion_matrix(Y_test,y_predicted))"
      ],
      "execution_count": 58,
      "outputs": [
        {
          "output_type": "stream",
          "text": [
            "[[1954  122]\n",
            " [ 238 1343]]\n"
          ],
          "name": "stdout"
        }
      ]
    },
    {
      "cell_type": "code",
      "metadata": {
        "colab": {
          "base_uri": "https://localhost:8080/",
          "height": 536
        },
        "id": "TOKm03wM9J5b",
        "outputId": "b56d12f4-56d5-466c-dde5-611c73f3b0fe"
      },
      "source": [
        "from sklearn import metrics\r\n",
        "import scikitplot as splt\r\n",
        "splt.metrics.plot_confusion_matrix(Y_test,y_predicted,figsize=(10,8),text_fontsize='large')"
      ],
      "execution_count": 65,
      "outputs": [
        {
          "output_type": "execute_result",
          "data": {
            "text/plain": [
              "<matplotlib.axes._subplots.AxesSubplot at 0x7f2712b8c668>"
            ]
          },
          "metadata": {
            "tags": []
          },
          "execution_count": 65
        },
        {
          "output_type": "display_data",
          "data": {
            "image/png": "[encoded data removed]",
            "text/plain": [
              "<Figure size 720x576 with 2 Axes>"
            ]
          },
          "metadata": {
            "tags": [],
            "needs_background": "light"
          }
        }
      ]
    },
    {
      "cell_type": "code",
      "metadata": {
        "id": "nT1Q8api9uIi"
      },
      "source": [
        ""
      ],
      "execution_count": null,
      "outputs": []
    }
  ]
}